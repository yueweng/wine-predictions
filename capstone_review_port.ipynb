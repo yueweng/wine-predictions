{
 "cells": [
  {
   "cell_type": "code",
   "execution_count": 1,
   "metadata": {},
   "outputs": [
    {
     "name": "stdout",
     "output_type": "stream",
     "text": [
      "Collecting package metadata (current_repodata.json): done\n",
      "Solving environment: done\n",
      "\n",
      "# All requested packages already installed.\n",
      "\n",
      "\n",
      "Note: you may need to restart the kernel to use updated packages.\n"
     ]
    }
   ],
   "source": [
    "conda install selenium"
   ]
  },
  {
   "cell_type": "code",
   "execution_count": 25,
   "metadata": {},
   "outputs": [],
   "source": [
    "import numpy as numpy\n",
    "from selenium import webdriver\n",
    "from selenium.webdriver.common.keys import Keys\n",
    "from selenium.webdriver.chrome.options import Options\n",
    "from selenium.webdriver.support.ui import WebDriverWait as wait\n",
    "from selenium.common.exceptions import TimeoutException\n",
    "from bs4 import BeautifulSoup\n",
    "import pandas as pd\n",
    "import os\n",
    "from datetime import datetime\n",
    "import time\n",
    "\n",
    "def lazyloading(driver):\n",
    "    button = driver.find_elements_by_class_name('bottleShot__deferred-type1--2juLX')[0]\n",
    "    button.click()\n",
    "    print(driver.find_elements_by_class_name('communityReview__review--2EmdH')[0].text)\n",
    "#     # Get the current number of rows\n",
    "#     current_rows_number = len(driver.find_elements_by_class_name('explorerCard__explorerCard--3Q7_0'))\n",
    "#     total_number = int(driver.find_elements_by_css_selector('.querySummary__querySummary--39WP2')[0].text.split('Showing ')[1].split('wines')[0])\n",
    "#     print(\"Total Number: \", total_number)\n",
    "#     while current_rows_number < total_number:\n",
    "#         # Scroll down to make new XHR (request more table rows)\n",
    "#         driver.find_element_by_tag_name('body').send_keys(Keys.END)\n",
    "#         try:\n",
    "#             driver.set_window_position(0,-1000)\n",
    "#             # Wait until number of rows increased  \n",
    "#             time.sleep(30)\n",
    "#             wait(driver, 300).until(lambda drive: len(driver.find_elements_by_class_name('explorerCard__explorerCard--3Q7_0')) > current_rows_number)\n",
    "#             # Update variable with current rows number\n",
    "#             current_rows_number = len(driver.find_elements_by_class_name('explorerCard__explorerCard--3Q7_0'))\n",
    "#             if current_rows_number % 200 == 0:\n",
    "#               print(\"Curr Row Number: \", current_rows_number)\n",
    "#         # If number of rows remains the same after 5 seconds passed, break the loop\n",
    "#         # as there no more rows to receive\n",
    "#         except TimeoutException:\n",
    "#             break"
   ]
  },
  {
   "cell_type": "code",
   "execution_count": 26,
   "metadata": {},
   "outputs": [
    {
     "name": "stdout",
     "output_type": "stream",
     "text": [
      "V&F Cy - Paul surprise event: 94, 73 % Merlot, 27 % Cabernet Franc, dark red fruit, coffee, plum, soft tannins, medium to full body, powerful and elegant, long aftertaste. A Bordeaux that is great now!\n",
      "Like\n",
      "Comment\n",
      "Mark van Delft\n",
      "1284 ratings\n",
      "Rated on May 11, 2018\n"
     ]
    }
   ],
   "source": [
    "from wine_setup import WineSetup\n",
    "\n",
    "bordeaux_wine_url = \"https://www.vivino.com/explore?e=eJwNxTEKgDAQBMDfbClKEGy28wdiJSJnjCFgErmI6O-1mYlKU7WIIbGpEeX5q2FfjgPsT4-TDfzOWzS4Sw7klSpXSL4scjsV75C5uWKh00zTGRRa-QDQzhy2\"\n",
    "bordeaux_wine = WineSetup(bordeaux_wine_url)\n",
    "bordeaux_wine.setup_driver()\n",
    "lazyloading(bordeaux_wine.driver)"
   ]
  },
  {
   "cell_type": "code",
   "execution_count": null,
   "metadata": {},
   "outputs": [],
   "source": []
  }
 ],
 "metadata": {
  "kernelspec": {
   "display_name": "Python 3",
   "language": "python",
   "name": "python3"
  },
  "language_info": {
   "codemirror_mode": {
    "name": "ipython",
    "version": 3
   },
   "file_extension": ".py",
   "mimetype": "text/x-python",
   "name": "python",
   "nbconvert_exporter": "python",
   "pygments_lexer": "ipython3",
   "version": "3.7.4"
  }
 },
 "nbformat": 4,
 "nbformat_minor": 2
}
