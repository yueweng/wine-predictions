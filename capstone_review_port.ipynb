{
 "cells": [
  {
   "cell_type": "code",
   "execution_count": 1,
   "metadata": {},
   "outputs": [
    {
     "name": "stdout",
     "output_type": "stream",
     "text": [
      "Collecting package metadata (current_repodata.json): done\n",
      "Solving environment: done\n",
      "\n",
      "# All requested packages already installed.\n",
      "\n",
      "\n",
      "Note: you may need to restart the kernel to use updated packages.\n"
     ]
    }
   ],
   "source": [
    "conda install selenium"
   ]
  },
  {
   "cell_type": "code",
   "execution_count": 28,
   "metadata": {},
   "outputs": [],
   "source": [
    "import numpy as numpy\n",
    "from selenium import webdriver\n",
    "from selenium.webdriver.common.keys import Keys\n",
    "from selenium.webdriver.chrome.options import Options\n",
    "from selenium.webdriver.support.ui import WebDriverWait as wait\n",
    "from selenium.common.exceptions import TimeoutException\n",
    "from bs4 import BeautifulSoup\n",
    "import pandas as pd\n",
    "import os\n",
    "from datetime import datetime\n",
    "import time\n",
    "\n",
    "def lazyloading(driver):\n",
    "    button = driver.find_elements_by_class_name('bottleShot__deferred-type1--2juLX')[0]\n",
    "    button.click()\n",
    "    print(driver.find_elements_by_class_name('communityReview__review--2EmdH')[0].text)\n",
    "#     # Get the current number of rows\n",
    "#     current_rows_number = len(driver.find_elements_by_class_name('explorerCard__explorerCard--3Q7_0'))\n",
    "#     total_number = int(driver.find_elements_by_css_selector('.querySummary__querySummary--39WP2')[0].text.split('Showing ')[1].split('wines')[0])\n",
    "#     print(\"Total Number: \", total_number)\n",
    "#     while current_rows_number < total_number:\n",
    "#         # Scroll down to make new XHR (request more table rows)\n",
    "#         driver.find_element_by_tag_name('body').send_keys(Keys.END)\n",
    "#         try:\n",
    "#             driver.set_window_position(0,-1000)\n",
    "#             # Wait until number of rows increased  \n",
    "#             time.sleep(30)\n",
    "#             wait(driver, 300).until(lambda drive: len(driver.find_elements_by_class_name('explorerCard__explorerCard--3Q7_0')) > current_rows_number)\n",
    "#             # Update variable with current rows number\n",
    "#             current_rows_number = len(driver.find_elements_by_class_name('explorerCard__explorerCard--3Q7_0'))\n",
    "#             if current_rows_number % 200 == 0:\n",
    "#               print(\"Curr Row Number: \", current_rows_number)\n",
    "#         # If number of rows remains the same after 5 seconds passed, break the loop\n",
    "#         # as there no more rows to receive\n",
    "#         except TimeoutException:\n",
    "#             break"
   ]
  },
  {
   "cell_type": "code",
   "execution_count": 29,
   "metadata": {},
   "outputs": [
    {
     "ename": "IndexError",
     "evalue": "list index out of range",
     "output_type": "error",
     "traceback": [
      "\u001b[0;31m---------------------------------------------------------------------------\u001b[0m",
      "\u001b[0;31mIndexError\u001b[0m                                Traceback (most recent call last)",
      "\u001b[0;32m<ipython-input-29-4fd13fa5e95f>\u001b[0m in \u001b[0;36m<module>\u001b[0;34m\u001b[0m\n\u001b[1;32m      4\u001b[0m \u001b[0mbordeaux_wine\u001b[0m \u001b[0;34m=\u001b[0m \u001b[0mWineSetup\u001b[0m\u001b[0;34m(\u001b[0m\u001b[0mbordeaux_wine_url\u001b[0m\u001b[0;34m)\u001b[0m\u001b[0;34m\u001b[0m\u001b[0;34m\u001b[0m\u001b[0m\n\u001b[1;32m      5\u001b[0m \u001b[0mbordeaux_wine\u001b[0m\u001b[0;34m.\u001b[0m\u001b[0msetup_driver\u001b[0m\u001b[0;34m(\u001b[0m\u001b[0;34m)\u001b[0m\u001b[0;34m\u001b[0m\u001b[0;34m\u001b[0m\u001b[0m\n\u001b[0;32m----> 6\u001b[0;31m \u001b[0mlazyloading\u001b[0m\u001b[0;34m(\u001b[0m\u001b[0mbordeaux_wine\u001b[0m\u001b[0;34m.\u001b[0m\u001b[0mdriver\u001b[0m\u001b[0;34m)\u001b[0m\u001b[0;34m\u001b[0m\u001b[0;34m\u001b[0m\u001b[0m\n\u001b[0m",
      "\u001b[0;32m<ipython-input-28-783773fc7cb3>\u001b[0m in \u001b[0;36mlazyloading\u001b[0;34m(driver)\u001b[0m\n\u001b[1;32m     12\u001b[0m \u001b[0;34m\u001b[0m\u001b[0m\n\u001b[1;32m     13\u001b[0m \u001b[0;32mdef\u001b[0m \u001b[0mlazyloading\u001b[0m\u001b[0;34m(\u001b[0m\u001b[0mdriver\u001b[0m\u001b[0;34m)\u001b[0m\u001b[0;34m:\u001b[0m\u001b[0;34m\u001b[0m\u001b[0;34m\u001b[0m\u001b[0m\n\u001b[0;32m---> 14\u001b[0;31m     \u001b[0mbutton\u001b[0m \u001b[0;34m=\u001b[0m \u001b[0mdriver\u001b[0m\u001b[0;34m.\u001b[0m\u001b[0mfind_elements_by_class_name\u001b[0m\u001b[0;34m(\u001b[0m\u001b[0;34m'bottleShot__deferred-type1--2juLX'\u001b[0m\u001b[0;34m)\u001b[0m\u001b[0;34m[\u001b[0m\u001b[0;36m0\u001b[0m\u001b[0;34m]\u001b[0m\u001b[0;34m\u001b[0m\u001b[0;34m\u001b[0m\u001b[0m\n\u001b[0m\u001b[1;32m     15\u001b[0m     \u001b[0mbutton\u001b[0m\u001b[0;34m.\u001b[0m\u001b[0mclick\u001b[0m\u001b[0;34m(\u001b[0m\u001b[0;34m)\u001b[0m\u001b[0;34m\u001b[0m\u001b[0;34m\u001b[0m\u001b[0m\n\u001b[1;32m     16\u001b[0m     \u001b[0mprint\u001b[0m\u001b[0;34m(\u001b[0m\u001b[0mdriver\u001b[0m\u001b[0;34m.\u001b[0m\u001b[0mfind_elements_by_class_name\u001b[0m\u001b[0;34m(\u001b[0m\u001b[0;34m'communityReview__review--2EmdH'\u001b[0m\u001b[0;34m)\u001b[0m\u001b[0;34m[\u001b[0m\u001b[0;36m0\u001b[0m\u001b[0;34m]\u001b[0m\u001b[0;34m.\u001b[0m\u001b[0mtext\u001b[0m\u001b[0;34m)\u001b[0m\u001b[0;34m\u001b[0m\u001b[0;34m\u001b[0m\u001b[0m\n",
      "\u001b[0;31mIndexError\u001b[0m: list index out of range"
     ]
    }
   ],
   "source": [
    "from wine_setup import WineSetup\n",
    "\n",
    "bordeaux_wine_url = \"https://www.vivino.com/explore?e=eJzLLbI11jNVy83MszVQy02ssDUyNVBLrrQNDVZLBhIuagW2hmrpabZliUWZqSWJOWr5SbZFiSWZeenF8cn5pXklavm2KanFyWrlJdGxtkYmQL3FQEZpsVqxbXIiAJfAH2w=\"\n",
    "bordeaux_wine = WineSetup(bordeaux_wine_url)\n",
    "bordeaux_wine.setup_driver()\n",
    "lazyloading(bordeaux_wine.driver)"
   ]
  },
  {
   "cell_type": "code",
   "execution_count": null,
   "metadata": {},
   "outputs": [],
   "source": []
  }
 ],
 "metadata": {
  "kernelspec": {
   "display_name": "Python 3",
   "language": "python",
   "name": "python3"
  },
  "language_info": {
   "codemirror_mode": {
    "name": "ipython",
    "version": 3
   },
   "file_extension": ".py",
   "mimetype": "text/x-python",
   "name": "python",
   "nbconvert_exporter": "python",
   "pygments_lexer": "ipython3",
   "version": "3.7.4"
  }
 },
 "nbformat": 4,
 "nbformat_minor": 2
}
