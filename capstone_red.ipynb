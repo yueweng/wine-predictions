{
 "cells": [
  {
   "cell_type": "code",
   "execution_count": 1,
   "metadata": {},
   "outputs": [
    {
     "name": "stdout",
     "output_type": "stream",
     "text": [
      "Collecting package metadata (current_repodata.json): done\n",
      "Solving environment: done\n",
      "\n",
      "# All requested packages already installed.\n",
      "\n",
      "\n",
      "Note: you may need to restart the kernel to use updated packages.\n"
     ]
    }
   ],
   "source": [
    "conda install selenium"
   ]
  },
  {
   "cell_type": "code",
   "execution_count": 2,
   "metadata": {},
   "outputs": [
    {
     "name": "stdout",
     "output_type": "stream",
     "text": [
      "Collecting package metadata (current_repodata.json): done\n",
      "Solving environment: done\n",
      "\n",
      "# All requested packages already installed.\n",
      "\n",
      "\n",
      "Note: you may need to restart the kernel to use updated packages.\n"
     ]
    }
   ],
   "source": [
    "conda install pymongo"
   ]
  },
  {
   "cell_type": "code",
   "execution_count": 59,
   "metadata": {},
   "outputs": [
    {
     "name": "stdout",
     "output_type": "stream",
     "text": [
      "Current Timestamp:  01-Feb-2020 (22:36:44.857589)\n",
      "Total Number:  15744\n",
      "Curr Row Number:  200\n",
      "Curr Row Number:  400\n",
      "Curr Row Number:  600\n",
      "Curr Row Number:  800\n",
      "Curr Row Number:  1000\n",
      "Curr Row Number:  1200\n",
      "Curr Row Number:  1400\n",
      "Curr Row Number:  1600\n",
      "Curr Row Number:  1800\n",
      "Curr Row Number:  2000\n",
      "Curr Row Number:  2200\n",
      "Curr Row Number:  2400\n",
      "Curr Row Number:  2600\n",
      "Curr Row Number:  2800\n",
      "Curr Row Number:  3000\n",
      "Curr Row Number:  3200\n",
      "Curr Row Number:  3400\n",
      "Curr Row Number:  3600\n",
      "Curr Row Number:  3800\n",
      "Curr Row Number:  4000\n",
      "Curr Row Number:  4200\n",
      "Curr Row Number:  4400\n",
      "Curr Row Number:  4600\n",
      "Curr Row Number:  4800\n",
      "Curr Row Number:  5000\n",
      "Curr Row Number:  5200\n",
      "Curr Row Number:  5400\n",
      "Curr Row Number:  5600\n",
      "Curr Row Number:  5800\n",
      "Curr Row Number:  6000\n",
      "Curr Row Number:  6200\n",
      "Curr Row Number:  6400\n",
      "Curr Row Number:  6600\n",
      "Curr Row Number:  6800\n",
      "Curr Row Number:  7000\n",
      "Curr Row Number:  7200\n",
      "Curr Row Number:  7400\n",
      "Curr Row Number:  7600\n",
      "Curr Row Number:  7800\n",
      "Curr Row Number:  8000\n",
      "Curr Row Number:  8200\n",
      "Curr Row Number:  8400\n",
      "Curr Row Number:  8600\n",
      "Curr Row Number:  8800\n",
      "Curr Row Number:  9000\n",
      "Curr Row Number:  9200\n",
      "Curr Row Number:  9400\n",
      "Curr Row Number:  9600\n",
      "Curr Row Number:  9800\n",
      "Curr Row Number:  10000\n",
      "Curr Row Number:  10200\n",
      "Curr Row Number:  10400\n",
      "Curr Row Number:  10600\n",
      "Curr Row Number:  10800\n",
      "Curr Row Number:  11000\n",
      "Curr Row Number:  11200\n",
      "Curr Row Number:  11400\n",
      "Curr Row Number:  11600\n",
      "Curr Row Number:  11800\n",
      "Curr Row Number:  12000\n",
      "Curr Row Number:  12200\n",
      "Curr Row Number:  12400\n",
      "Curr Row Number:  12600\n",
      "Curr Row Number:  12800\n",
      "Curr Row Number:  13000\n",
      "Curr Row Number:  13200\n",
      "Curr Row Number:  13400\n",
      "Curr Row Number:  13600\n",
      "Curr Row Number:  13800\n",
      "Curr Row Number:  14000\n",
      "Curr Row Number:  14200\n",
      "Current Timestamp:  02-Feb-2020 (04:23:14.675677)\n"
     ]
    }
   ],
   "source": [
    "from wine import Wine\n",
    "\n",
    "red_wine_url = \"https://www.vivino.com/explore?e=eJwtyjsKwzAQhOHbTBksgsvtcoPgKgSz3myEwJKNVvh1eqtQM_9XTMz0fPSIIZHrEPmo6SAnDW9InRdWcvB_2jgHLTxjmShzCcnbyJtm9oqFfmqCvXy-9Syn1ao1hNJwcUO6YCR8A7mMKeI=\"\n",
    "red_wine = Wine(red_wine_url)\n",
    "red_wine.setup_driver()\n",
    "red_wine.run_timestamp()\n",
    "red_wine.run_sel_lazyloading('Red')\n",
    "red_wine.run_timestamp()"
   ]
  },
  {
   "cell_type": "code",
   "execution_count": 60,
   "metadata": {},
   "outputs": [],
   "source": [
    "red_rows = red_wine.create_rows()"
   ]
  },
  {
   "cell_type": "code",
   "execution_count": 61,
   "metadata": {},
   "outputs": [
    {
     "data": {
      "text/plain": [
       "14300"
      ]
     },
     "execution_count": 61,
     "metadata": {},
     "output_type": "execute_result"
    }
   ],
   "source": [
    "len(red_rows)"
   ]
  },
  {
   "cell_type": "code",
   "execution_count": 16,
   "metadata": {},
   "outputs": [],
   "source": [
    "%reload_ext autoreload\n",
    "%autoreload 2"
   ]
  },
  {
   "cell_type": "code",
   "execution_count": 62,
   "metadata": {},
   "outputs": [],
   "source": [
    "import copy\n",
    "def store_list(rows, type):\n",
    "\n",
    "    # austria_wine_df = pd.DataFrame()\n",
    "    all_rows = []\n",
    "\n",
    "    # Let's store each row as a dictionary \n",
    "    empty_row = {\n",
    "        \"title\": None, \"location\": None, \"region\": None, \"country\": None, \"price\": None, \"type\": None, \"ratings\": None, \"num_ratings\": None, \"reviews\": None, \"image_url\": None\n",
    "    }\n",
    "\n",
    "    for row in rows:\n",
    "      new_row = copy.copy(empty_row)\n",
    "      # A list of all the entries in the row.\n",
    "      new_row['title'] = row.find(\"span\", {\"class\": \"vintageTitle__wine--U7t9G\"}).text\n",
    "      \n",
    "      location = row.find(\"div\", {\"class\": \"vintageLocation__vintageLocation--1DF0p\"})\n",
    "      new_row['location'] = location.findChildren()[-1].text\n",
    "      country = row.find(\"i\", {\"class\": \"vintageLocation__countryFlag--1HbXr\"})['title']\n",
    "#       new_row['region'] = 'Champagne'\n",
    "      # if country == 'France':\n",
    "      #     new_row['region'] = 'Bordeaux'\n",
    "      # else:\n",
    "      #     new_row['region'] = 'California'\n",
    "      new_row['country'] = country\n",
    "      price_button = row.find(\"button\", {\"class\": \"addToCartButton__addToCartButton--qZv9F\"})\n",
    "      if price_button:\n",
    "          new_row['price'] = (float(price_button.find(\"span\").text.replace(\"$\", \"\")))\n",
    "      new_row['type'] = type\n",
    "      new_row['ratings'] = row.find(\"div\", {\"class\": \"vivinoRatingWide__averageValue--1zL_5\"}).text\n",
    "      new_row['num_ratings'] = int(row.find(\"div\", {\"class\": \"vivinoRatingWide__basedOn--s6y0t\"}).text.split()[0])\n",
    "      review_div = row.find(\"div\", {\"class\": \"review__note--2b2DB\"})\n",
    "      if review_div:\n",
    "          new_row['review'] = review_div.text\n",
    "      image_div = row.find(\"div\", {\"class\": \"cleanWineCard__bottleShotWrapper--nymTj\"})\n",
    "      if image_div:\n",
    "          new_row['image_url'] = image_div.find(\"div\").find_next('img')['src'].strip(\"//\")\n",
    "      \n",
    "      all_rows.append(new_row)\n",
    "\n",
    "    return all_rows"
   ]
  },
  {
   "cell_type": "code",
   "execution_count": 63,
   "metadata": {},
   "outputs": [
    {
     "data": {
      "text/plain": [
       "14300"
      ]
     },
     "execution_count": 63,
     "metadata": {},
     "output_type": "execute_result"
    }
   ],
   "source": [
    "all_rows = store_list(red_rows, 'Red')\n",
    "len(all_rows)"
   ]
  },
  {
   "cell_type": "code",
   "execution_count": 64,
   "metadata": {},
   "outputs": [
    {
     "data": {
      "text/plain": [
       "[{'title': 'Limited Edition 10 Vendemmie N.V.',\n",
       "  'location': \"Montepulciano d'Abruzzo\",\n",
       "  'region': None,\n",
       "  'country': 'Italy',\n",
       "  'price': 39.99,\n",
       "  'type': 'Red',\n",
       "  'ratings': '4.6',\n",
       "  'num_ratings': 1354,\n",
       "  'reviews': None,\n",
       "  'image_url': 'images.vivino.com/thumbs/wOdt4HFISUmt6_9FevRFAw_pb_x300.png'},\n",
       " {'title': 'Filo di Seta Brunello di Montalcino 2010',\n",
       "  'location': 'Brunello di Montalcino',\n",
       "  'region': None,\n",
       "  'country': 'Italy',\n",
       "  'price': 95.0,\n",
       "  'type': 'Red',\n",
       "  'ratings': '4.5',\n",
       "  'num_ratings': 76,\n",
       "  'reviews': None,\n",
       "  'image_url': 'images.vivino.com/thumbs/vDJV5HSBSNykRFLm80rqpA_pb_x300.png',\n",
       "  'review': '“#3 / 4 Italian wine dinner.\\n4.3 *** Lively BdM that was an exceptionally rich and deep offering in this dinner tasting.\\n\\nMedium ruby color with light ruby rim and extremely long, thin sexy legs.\\n\\nNose of red fruit, white chocolate, char and cedar.\\n\\nOpening of black fruit favoring blackberries with black pepper, cocoa, burnt toast and ash.\\n\\nMedium bodied and light acidity with youthful, bold tannins that emerge slow and linger long.\\n\\nPeace and cheers!”'},\n",
       " {'title': 'La Creu Alta 2012',\n",
       "  'location': 'Priorat',\n",
       "  'region': None,\n",
       "  'country': 'Spain',\n",
       "  'price': 99.99,\n",
       "  'type': 'Red',\n",
       "  'ratings': '4.5',\n",
       "  'num_ratings': 92,\n",
       "  'reviews': None,\n",
       "  'image_url': 'images.vivino.com/thumbs/v3rB-sRMRTKnr75nx19wIA_pb_x300.png'},\n",
       " {'title': 'Carmen Gran Reserva Rioja 2009',\n",
       "  'location': 'Rioja',\n",
       "  'region': None,\n",
       "  'country': 'Spain',\n",
       "  'price': 84.99,\n",
       "  'type': 'Red',\n",
       "  'ratings': '4.5',\n",
       "  'num_ratings': 102,\n",
       "  'reviews': None,\n",
       "  'image_url': 'images.vivino.com/thumbs/TyzLdYPhSDa-vdSPxCWNzw_pb_x300.png'},\n",
       " {'title': 'Planots Priorat 2009',\n",
       "  'location': 'Priorat',\n",
       "  'region': None,\n",
       "  'country': 'Spain',\n",
       "  'price': 84.99,\n",
       "  'type': 'Red',\n",
       "  'ratings': '4.5',\n",
       "  'num_ratings': 122,\n",
       "  'reviews': None,\n",
       "  'image_url': 'images.vivino.com/thumbs/agFGI3cWS_iKxEeIQd7qfg_pb_x300.png',\n",
       "  'review': '“A blend from 100+ years old vines, 50% Garnacha and 50% Cariñena.\\nSill young !!\\n\\nExpressive nose with ripe blackberries, black cherries, earth , authum forest, herbs, nice used cedar, full bodied in the palate, concentrated ripe black fruits flavors, fresh good balanced acidity, smooth silky tannin, a touch vanilla, great flavorful fruits on the aftertaste ! 97 DSP”'},\n",
       " {'title': '5 Stelle Sfursat 2016',\n",
       "  'location': 'Valtellina',\n",
       "  'region': None,\n",
       "  'country': 'Italy',\n",
       "  'price': 99.99,\n",
       "  'type': 'Red',\n",
       "  'ratings': '4.5',\n",
       "  'num_ratings': 181,\n",
       "  'reviews': None,\n",
       "  'image_url': 'images.vivino.com/thumbs/b971K3f7QGGH17dFgHHuQw_pb_x300.png'},\n",
       " {'title': 'Giramonte Toscana 2008',\n",
       "  'location': 'Toscana',\n",
       "  'region': None,\n",
       "  'country': 'Italy',\n",
       "  'price': 99.99,\n",
       "  'type': 'Red',\n",
       "  'ratings': '4.5',\n",
       "  'num_ratings': 189,\n",
       "  'reviews': None,\n",
       "  'image_url': 'images.vivino.com/thumbs/saWwa32aQMile2avZEVk9w_pb_x300.png',\n",
       "  'review': '“Very dark and concentrated color. Great hang in the glass with thick viscosity. The aroma is very pleasant with lots of dark berries and spices like pepper and herbs. The taste has a perfect balance of fat tannins, alcohol, fruit and acid. Elegant and full-bodied-wine with a long soft and silky finish. An extremly amazing Super Tuscan.”'},\n",
       " {'title': 'Alteo Amarone della Valpolicella 2011',\n",
       "  'location': 'Amarone della Valpolicella',\n",
       "  'region': None,\n",
       "  'country': 'Italy',\n",
       "  'price': 91.99,\n",
       "  'type': 'Red',\n",
       "  'ratings': '4.5',\n",
       "  'num_ratings': 191,\n",
       "  'reviews': None,\n",
       "  'image_url': 'images.vivino.com/thumbs/VDfos9SSR_qLse2xuaUqbQ_pb_x300.png'},\n",
       " {'title': \"Harimann Montepulciano d'Abruzzo 2007\",\n",
       "  'location': \"Montepulciano d'Abruzzo\",\n",
       "  'region': None,\n",
       "  'country': 'Italy',\n",
       "  'price': 79.99,\n",
       "  'type': 'Red',\n",
       "  'ratings': '4.5',\n",
       "  'num_ratings': 211,\n",
       "  'reviews': None,\n",
       "  'image_url': 'images.vivino.com/thumbs/Y5VhDMNvSrq49Vd3N_PZng_pb_x300.png'},\n",
       " {'title': 'Calcarole Amarone della Valpolicella Classico 2011',\n",
       "  'location': 'Amarone della Valpolicella Classico',\n",
       "  'region': None,\n",
       "  'country': 'Italy',\n",
       "  'price': 71.99,\n",
       "  'type': 'Red',\n",
       "  'ratings': '4.5',\n",
       "  'num_ratings': 224,\n",
       "  'reviews': None,\n",
       "  'image_url': 'images.vivino.com/thumbs/xi0C3ycQTzGTk3FwaJbTEQ_pb_x300.png'}]"
      ]
     },
     "execution_count": 64,
     "metadata": {},
     "output_type": "execute_result"
    }
   ],
   "source": [
    "all_rows[:10]"
   ]
  },
  {
   "cell_type": "code",
   "execution_count": 65,
   "metadata": {},
   "outputs": [],
   "source": [
    "red_wine.connect_mongo(all_rows)"
   ]
  },
  {
   "cell_type": "code",
   "execution_count": null,
   "metadata": {},
   "outputs": [],
   "source": []
  }
 ],
 "metadata": {
  "kernelspec": {
   "display_name": "Python 3",
   "language": "python",
   "name": "python3"
  },
  "language_info": {
   "codemirror_mode": {
    "name": "ipython",
    "version": 3
   },
   "file_extension": ".py",
   "mimetype": "text/x-python",
   "name": "python",
   "nbconvert_exporter": "python",
   "pygments_lexer": "ipython3",
   "version": "3.7.4"
  }
 },
 "nbformat": 4,
 "nbformat_minor": 2
}
