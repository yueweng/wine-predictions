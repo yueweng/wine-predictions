{
 "cells": [
  {
   "cell_type": "code",
   "execution_count": 1,
   "metadata": {},
   "outputs": [
    {
     "name": "stdout",
     "output_type": "stream",
     "text": [
      "Collecting package metadata (current_repodata.json): done\n",
      "Solving environment: done\n",
      "\n",
      "# All requested packages already installed.\n",
      "\n",
      "\n",
      "Note: you may need to restart the kernel to use updated packages.\n"
     ]
    }
   ],
   "source": [
    "conda install selenium"
   ]
  },
  {
   "cell_type": "code",
   "execution_count": 2,
   "metadata": {},
   "outputs": [],
   "source": [
    "import numpy as numpy\n",
    "from selenium import webdriver\n",
    "from selenium.webdriver.common.keys import Keys\n",
    "from selenium.webdriver.chrome.options import Options\n",
    "from selenium.webdriver.support.ui import WebDriverWait as wait\n",
    "from selenium.common.exceptions import TimeoutException\n",
    "from bs4 import BeautifulSoup\n",
    "import pandas as pd\n",
    "import os\n",
    "from datetime import datetime\n",
    "\n",
    "def lazyloading(driver):\n",
    "    # Get the current number of rows\n",
    "    current_rows_number = len(driver.find_elements_by_class_name('explorerCard__explorerCard--3Q7_0'))\n",
    "    total_number = int(driver.find_elements_by_css_selector('.querySummary__querySummary--39WP2')[0].text.split('Showing ')[1].split('wines')[0])\n",
    "    print(\"Total Number: \", total_number)\n",
    "    while current_rows_number < total_number:\n",
    "        # Scroll down to make new XHR (request more table rows)\n",
    "        driver.find_element_by_tag_name('body').send_keys(Keys.END)\n",
    "        try:\n",
    "            driver.set_window_position(0,-1000)\n",
    "            # Wait until number of rows increased       \n",
    "            wait(driver, 200).until(lambda drive: len(driver.find_elements_by_class_name('explorerCard__explorerCard--3Q7_0')) > current_rows_number)\n",
    "            # Update variable with current rows number\n",
    "            current_rows_number = len(driver.find_elements_by_class_name('explorerCard__explorerCard--3Q7_0'))\n",
    "            if current_rows_number % 200 == 0:\n",
    "              print(\"Curr Row Number: \", current_rows_number)\n",
    "        # If number of rows remains the same after 5 seconds passed, break the loop\n",
    "        # as there no more rows to receive\n",
    "        except TimeoutException:\n",
    "            break"
   ]
  },
  {
   "cell_type": "code",
   "execution_count": 5,
   "metadata": {},
   "outputs": [
    {
     "name": "stdout",
     "output_type": "stream",
     "text": [
      "Current Timestamp:  30-Jan-2020 (17:47:31.850273)\n",
      "Total Number:  18827\n",
      "Curr Row Number:  200\n",
      "Curr Row Number:  400\n",
      "Curr Row Number:  600\n",
      "Curr Row Number:  800\n",
      "Curr Row Number:  1000\n",
      "Curr Row Number:  1200\n",
      "Curr Row Number:  1400\n",
      "Curr Row Number:  1600\n",
      "Curr Row Number:  1800\n",
      "Curr Row Number:  2000\n",
      "Curr Row Number:  2200\n",
      "Curr Row Number:  2400\n",
      "Current Timestamp:  30-Jan-2020 (17:56:49.754886)\n"
     ]
    }
   ],
   "source": [
    "from wine import Wine\n",
    "\n",
    "germany_wine_url = \"https://www.vivino.com/explore?e=eJwNizEKgDAMAH-TuQ6O2fyBOIlIjLEUbCtJKfp7sxwHx2XFAXIqGCDTi2MIwB8uM7BjgsdrvLCTJml0Qz1QqaUSbacuSlGg4inGftm6uYIh0w-_Sx0s\"\n",
    "germany_wine = Wine(germany_wine_url)\n",
    "germany_wine.setup_driver()\n",
    "germany_wine.run_timestamp()\n",
    "lazyloading(germany_wine.driver)\n",
    "germany_wine.run_timestamp()"
   ]
  },
  {
   "cell_type": "code",
   "execution_count": 6,
   "metadata": {},
   "outputs": [],
   "source": [
    "germany_html = BeautifulSoup(germany_wine.driver.page_source, 'lxml')\n",
    "germany_div = germany_html.find(\"div\", {\"class\": \"explorerPage__results--3wqLw\"})\n",
    "germany_rows = germany_html.find_all(\"div\", {\"class\": \"explorerCard__explorerCard--3Q7_0\"})"
   ]
  },
  {
   "cell_type": "code",
   "execution_count": 7,
   "metadata": {},
   "outputs": [],
   "source": [
    "import copy\n",
    "\n",
    "# austria_wine_df = pd.DataFrame()\n",
    "all_rows = []\n",
    "\n",
    "# Let's store each row as a dictionary \n",
    "empty_row = {\n",
    "    \"title\": None, \"country\": None, \"continent\": None, \"ratings\": None, \"num_ratings\": None, \"reviews\": None, \"image_url\": None\n",
    "}\n",
    "\n",
    "for row in germany_rows:\n",
    "    new_row = copy.copy(empty_row)\n",
    "    # A list of all the entries in the row.\n",
    "    new_row['title'] = row.find(\"span\", {\"class\": \"vintageTitle__wine--U7t9G\"}).text\n",
    "    new_row['country'] = row.find(\"i\", {\"class\": \"vintageLocation__countryFlag--1HbXr\"})['title']\n",
    "    new_row['continent'] = 'Europe'\n",
    "    new_row['ratings'] = row.find(\"div\", {\"class\": \"vivinoRatingWide__averageValue--1zL_5\"}).text\n",
    "    new_row['num_ratings'] = int(row.find(\"div\", {\"class\": \"vivinoRatingWide__basedOn--s6y0t\"}).text.split()[0])\n",
    "    review_div = row.find(\"div\", {\"class\": \"review__note--2b2DB\"})\n",
    "    if review_div:\n",
    "        new_row['review'] = review_div.text\n",
    "    image_div = row.find(\"div\", {\"class\": \"cleanWineCard__bottleShotWrapper--nymTj\"})\n",
    "    if image_div:\n",
    "        new_row['image_url'] = image_div.find(\"div\").find_next('img')['src'].strip(\"//\")\n",
    "    all_rows.append(new_row)"
   ]
  },
  {
   "cell_type": "code",
   "execution_count": 8,
   "metadata": {},
   "outputs": [
    {
     "data": {
      "text/plain": [
       "{'title': 'Chardonnay Trocken 2015',\n",
       " 'country': 'Germany',\n",
       " 'continent': 'Europe',\n",
       " 'ratings': '4.9',\n",
       " 'num_ratings': 32,\n",
       " 'reviews': None,\n",
       " 'image_url': None,\n",
       " 'review': '“super, belle surprise”'}"
      ]
     },
     "execution_count": 8,
     "metadata": {},
     "output_type": "execute_result"
    }
   ],
   "source": [
    "all_rows[0]"
   ]
  },
  {
   "cell_type": "code",
   "execution_count": null,
   "metadata": {},
   "outputs": [],
   "source": []
  }
 ],
 "metadata": {
  "kernelspec": {
   "display_name": "Python 3",
   "language": "python",
   "name": "python3"
  },
  "language_info": {
   "codemirror_mode": {
    "name": "ipython",
    "version": 3
   },
   "file_extension": ".py",
   "mimetype": "text/x-python",
   "name": "python",
   "nbconvert_exporter": "python",
   "pygments_lexer": "ipython3",
   "version": "3.7.4"
  }
 },
 "nbformat": 4,
 "nbformat_minor": 2
}
