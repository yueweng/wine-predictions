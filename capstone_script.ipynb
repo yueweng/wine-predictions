{
 "cells": [
  {
   "cell_type": "code",
   "execution_count": 1,
   "metadata": {},
   "outputs": [
    {
     "name": "stdout",
     "output_type": "stream",
     "text": [
      "Collecting package metadata (current_repodata.json): done\n",
      "Solving environment: done\n",
      "\n",
      "# All requested packages already installed.\n",
      "\n",
      "\n",
      "Note: you may need to restart the kernel to use updated packages.\n"
     ]
    }
   ],
   "source": [
    "conda install selenium"
   ]
  },
  {
   "cell_type": "code",
   "execution_count": 1,
   "metadata": {},
   "outputs": [],
   "source": [
    "from selenium import webdriver\n",
    "from selenium.webdriver.common.keys import Keys\n",
    "from selenium.webdriver.chrome.options import Options\n",
    "from bs4 import BeautifulSoup\n",
    "import re\n",
    "import pandas as pd\n",
    "import os"
   ]
  },
  {
   "cell_type": "code",
   "execution_count": 29,
   "metadata": {},
   "outputs": [],
   "source": [
    "from selenium.webdriver.common.keys import Keys\n",
    "from selenium.webdriver.support.ui import WebDriverWait as wait\n",
    "from selenium.common.exceptions import TimeoutException\n",
    "\n",
    "# def run_sel_lazyloading(driver):\n",
    "#     # Get the current number of rows\n",
    "#     current_rows_number = len(driver.find_elements_by_class_name('explorerCard__explorerCard--3Q7_0'))\n",
    "#     total_number = int(driver.find_elements_by_css_selector('.querySummary__querySummary--39WP2')[0].text.split('Showing ')[1].split('wines')[0])\n",
    "#     while current_rows_number < total_number:\n",
    "#         # Scroll down to make new XHR (request more table rows)\n",
    "#         driver.find_element_by_tag_name('body').send_keys(Keys.END)\n",
    "#         try:\n",
    "#             driver.set_window_position(0,-1000)\n",
    "#             # Wait until number of rows increased       \n",
    "#             wait(driver, 60).until(lambda drive: len(driver.find_elements_by_class_name('explorerCard__explorerCard--3Q7_0')) > current_rows_number)\n",
    "#             # Update variable with current rows number\n",
    "#             current_rows_number = len(driver.find_elements_by_class_name('explorerCard__explorerCard--3Q7_0'))\n",
    "#             print(current_rows_number)\n",
    "#         # If number of rows remains the same after 5 seconds passed, break the loop\n",
    "#         # as there no more rows to receive\n",
    "#         except TimeoutException:\n",
    "#             break\n",
    "\n",
    "def run_sel_lazyloading_test(driver):\n",
    "    driver.find_element_by_tag_name('body').send_keys(Keys.END)"
   ]
  },
  {
   "cell_type": "code",
   "execution_count": 53,
   "metadata": {},
   "outputs": [],
   "source": [
    "import requests\n",
    "\n",
    "# test_wine_url = \"https://www.vivino.com/quady-winery-electra-red-california-moscato/w/14175?year=2016&price_id=14978727\"\n",
    "# r = requests.get(test_wine_url, headers={'user-agent': 'Mozilla/5.0'})\n",
    "\n",
    "# soup = BeautifulSoup(r.content, \"html\")\n",
    "# print(soup)\n",
    "# price_div = soup.find(\"span\", {\"class\": \"purchaseAvailability__currentPrice--3mO4u\"})\n",
    "# print(price_div)\n",
    "\n",
    "def get_variables(url):\n",
    "    price = 0.0\n",
    "    vintage = \"\"\n",
    "    review = \"\"\n",
    "    test_wine_url = url\n",
    "    test_wine = WineSetup(test_wine_url)\n",
    "    test_wine.setup_driver()\n",
    "    run_sel_lazyloading_test(test_wine.driver)\n",
    "\n",
    "    test_html = BeautifulSoup(test_wine.driver.page_source, 'lxml')\n",
    "    price_div = test_html.find(\"span\", {\"class\": \"purchaseAvailability__currentPrice--3mO4u\"})\n",
    "    vintage_div = test_html.find(\"span\", {\"class\": \"purchaseAvailability__year--3huqD\"})\n",
    "    review_div = test_html.find(\"div\", {\"class\": \"communityReview__textSection--vu-i-\"})\n",
    "    if price_div:\n",
    "        price = float(price_div.text.split(\"$\")[1])\n",
    "    if vintage_div:\n",
    "        vintage = vintage_div.text\n",
    "    if review_div:\n",
    "        review = review_div.find(\"p\").text\n",
    "    \n",
    "    return price, vintage, review\n"
   ]
  },
  {
   "cell_type": "code",
   "execution_count": 54,
   "metadata": {},
   "outputs": [
    {
     "ename": "AttributeError",
     "evalue": "'NoneType' object has no attribute 'text'",
     "output_type": "error",
     "traceback": [
      "\u001b[0;31m---------------------------------------------------------------------------\u001b[0m",
      "\u001b[0;31mAttributeError\u001b[0m                            Traceback (most recent call last)",
      "\u001b[0;32m<ipython-input-54-3f35db5e62f5>\u001b[0m in \u001b[0;36m<module>\u001b[0;34m\u001b[0m\n\u001b[1;32m     10\u001b[0m \u001b[0;32mfor\u001b[0m \u001b[0mt\u001b[0m \u001b[0;32min\u001b[0m \u001b[0mtest\u001b[0m\u001b[0;34m:\u001b[0m\u001b[0;34m\u001b[0m\u001b[0;34m\u001b[0m\u001b[0m\n\u001b[1;32m     11\u001b[0m     \u001b[0mcount\u001b[0m \u001b[0;34m+=\u001b[0m \u001b[0;36m1\u001b[0m\u001b[0;34m\u001b[0m\u001b[0;34m\u001b[0m\u001b[0m\n\u001b[0;32m---> 12\u001b[0;31m     \u001b[0mprice\u001b[0m\u001b[0;34m,\u001b[0m \u001b[0mvintage\u001b[0m\u001b[0;34m,\u001b[0m \u001b[0mreview\u001b[0m \u001b[0;34m=\u001b[0m \u001b[0mget_variables\u001b[0m\u001b[0;34m(\u001b[0m\u001b[0mt\u001b[0m\u001b[0;34m[\u001b[0m\u001b[0;34m'url'\u001b[0m\u001b[0;34m]\u001b[0m\u001b[0;34m)\u001b[0m\u001b[0;34m\u001b[0m\u001b[0;34m\u001b[0m\u001b[0m\n\u001b[0m\u001b[1;32m     13\u001b[0m \u001b[0;34m\u001b[0m\u001b[0m\n\u001b[1;32m     14\u001b[0m     \u001b[0mprint\u001b[0m\u001b[0;34m(\u001b[0m\u001b[0;34m'-----------------'\u001b[0m\u001b[0;34m)\u001b[0m\u001b[0;34m\u001b[0m\u001b[0;34m\u001b[0m\u001b[0m\n",
      "\u001b[0;32m<ipython-input-53-7ed5bc19250e>\u001b[0m in \u001b[0;36mget_variables\u001b[0;34m(url)\u001b[0m\n\u001b[1;32m     23\u001b[0m     \u001b[0;32melse\u001b[0m\u001b[0;34m:\u001b[0m\u001b[0;34m\u001b[0m\u001b[0;34m\u001b[0m\u001b[0m\n\u001b[1;32m     24\u001b[0m         \u001b[0mprice\u001b[0m \u001b[0;34m=\u001b[0m \u001b[0;36m0.0\u001b[0m\u001b[0;34m\u001b[0m\u001b[0;34m\u001b[0m\u001b[0m\n\u001b[0;32m---> 25\u001b[0;31m     \u001b[0mvintage\u001b[0m \u001b[0;34m=\u001b[0m \u001b[0mvintage_div\u001b[0m\u001b[0;34m.\u001b[0m\u001b[0mtext\u001b[0m\u001b[0;34m\u001b[0m\u001b[0;34m\u001b[0m\u001b[0m\n\u001b[0m\u001b[1;32m     26\u001b[0m     \u001b[0mreview\u001b[0m \u001b[0;34m=\u001b[0m \u001b[0mreview_div\u001b[0m\u001b[0;34m.\u001b[0m\u001b[0mfind\u001b[0m\u001b[0;34m(\u001b[0m\u001b[0;34m\"p\"\u001b[0m\u001b[0;34m)\u001b[0m\u001b[0;34m.\u001b[0m\u001b[0mtext\u001b[0m\u001b[0;34m\u001b[0m\u001b[0;34m\u001b[0m\u001b[0m\n\u001b[1;32m     27\u001b[0m \u001b[0;34m\u001b[0m\u001b[0m\n",
      "\u001b[0;31mAttributeError\u001b[0m: 'NoneType' object has no attribute 'text'"
     ]
    }
   ],
   "source": [
    "import pymongo\n",
    "from pymongo import MongoClient\n",
    "\n",
    "client = MongoClient('localhost', 27017)\n",
    "wine_db = client['wine_db']\n",
    "wines = wine_db['wines']\n",
    "\n",
    "test = wine_db.wines.find({'price': 0.0, 'type': 'Port'})\n",
    "count = 0\n",
    "for t in test:\n",
    "    count += 1\n",
    "    price, vintage, review = get_variables(t['url'])\n",
    "    \n",
    "    print('-----------------')\n",
    "    print('Price: ', price)\n",
    "    print('Vintage: ', vintage)\n",
    "    print('Review: ', review)\n",
    "    \n",
    "print(count)"
   ]
  },
  {
   "cell_type": "code",
   "execution_count": 46,
   "metadata": {},
   "outputs": [
    {
     "name": "stderr",
     "output_type": "stream",
     "text": [
      "/Users/yuewengmak/opt/anaconda3/lib/python3.7/site-packages/ipykernel_launcher.py:1: DeprecationWarning: update is deprecated. Use replace_one, update_one or update_many instead.\n",
      "  \"\"\"Entry point for launching an IPython kernel.\n"
     ]
    },
    {
     "data": {
      "text/plain": [
       "{'n': 1, 'nModified': 1, 'ok': 1.0, 'updatedExisting': True}"
      ]
     },
     "execution_count": 46,
     "metadata": {},
     "output_type": "execute_result"
    }
   ],
   "source": [
    "wine_db.wines.update({'url': test_wine_url}, {\"$set\": {\"price\": price, \"vintage\": vintage, \"reviews\": review}})\n",
    "# #launch url\n",
    "# austria_wine_url = \"https://www.vivino.com/explore?e=eJwNyzEKgDAMRuHbZK6D4795A3ESkRhrKdhWklL09nZ5y8dLioFSzHCU-MXoHMmHZSbpmejpGi401ugr31QOKNeYg-3cvHLwVHB6k37ZuoErGYR_v5AdOA==\"\n",
    "\n",
    "# # # create a new Firefox session\n",
    "# path = r'/Users/yuewengmak/Desktop/chromedriver'\n",
    "# driver = webdriver.Chrome(executable_path = path)\n",
    "# driver.implicitly_wait(30)\n",
    "# driver.get(austria_wine_url)\n",
    "\n",
    "# tracking(driver)"
   ]
  },
  {
   "cell_type": "code",
   "execution_count": null,
   "metadata": {},
   "outputs": [],
   "source": []
  }
 ],
 "metadata": {
  "kernelspec": {
   "display_name": "Python 3",
   "language": "python",
   "name": "python3"
  },
  "language_info": {
   "codemirror_mode": {
    "name": "ipython",
    "version": 3
   },
   "file_extension": ".py",
   "mimetype": "text/x-python",
   "name": "python",
   "nbconvert_exporter": "python",
   "pygments_lexer": "ipython3",
   "version": "3.7.4"
  }
 },
 "nbformat": 4,
 "nbformat_minor": 2
}
