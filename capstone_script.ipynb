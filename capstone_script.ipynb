{
 "cells": [
  {
   "cell_type": "code",
   "execution_count": 1,
   "metadata": {},
   "outputs": [
    {
     "name": "stdout",
     "output_type": "stream",
     "text": [
      "Collecting package metadata (current_repodata.json): done\n",
      "Solving environment: done\n",
      "\n",
      "# All requested packages already installed.\n",
      "\n",
      "\n",
      "Note: you may need to restart the kernel to use updated packages.\n"
     ]
    }
   ],
   "source": [
    "conda install selenium"
   ]
  },
  {
   "cell_type": "code",
   "execution_count": 2,
   "metadata": {},
   "outputs": [],
   "source": [
    "# from selenium import webdriver\n",
    "# from selenium.webdriver.common.keys import Keys\n",
    "# from selenium.webdriver.chrome.options import Options\n",
    "# from bs4 import BeautifulSoup\n",
    "# import re\n",
    "# import pandas as pd\n",
    "# import os"
   ]
  },
  {
   "cell_type": "code",
   "execution_count": 3,
   "metadata": {},
   "outputs": [],
   "source": [
    "# from selenium.webdriver.common.keys import Keys\n",
    "# from selenium.webdriver.support.ui import WebDriverWait as wait\n",
    "# from selenium.common.exceptions import TimeoutException\n",
    "\n",
    "# def run_sel_lazyloading(driver):\n",
    "#     # Get the current number of rows\n",
    "#     current_rows_number = len(driver.find_elements_by_class_name('explorerCard__explorerCard--3Q7_0'))\n",
    "#     total_number = int(driver.find_elements_by_css_selector('.querySummary__querySummary--39WP2')[0].text.split('Showing ')[1].split('wines')[0])\n",
    "#     while current_rows_number < total_number:\n",
    "#         # Scroll down to make new XHR (request more table rows)\n",
    "#         driver.find_element_by_tag_name('body').send_keys(Keys.END)\n",
    "#         try:\n",
    "#             driver.set_window_position(0,-1000)\n",
    "#             # Wait until number of rows increased       \n",
    "#             wait(driver, 60).until(lambda drive: len(driver.find_elements_by_class_name('explorerCard__explorerCard--3Q7_0')) > current_rows_number)\n",
    "#             # Update variable with current rows number\n",
    "#             current_rows_number = len(driver.find_elements_by_class_name('explorerCard__explorerCard--3Q7_0'))\n",
    "#             print(current_rows_number)\n",
    "#         # If number of rows remains the same after 5 seconds passed, break the loop\n",
    "#         # as there no more rows to receive\n",
    "#         except TimeoutException:\n",
    "#             break"
   ]
  },
  {
   "cell_type": "code",
   "execution_count": 4,
   "metadata": {},
   "outputs": [],
   "source": [
    "# from datetime import datetime\n",
    "\n",
    "# def run_timestamp():\n",
    "#     dateTimeObj = datetime.now()\n",
    "#     timestampStr = dateTimeObj.strftime(\"%d-%b-%Y (%H:%M:%S.%f)\")\n",
    "    \n",
    "#     print('Current Timestamp: ', timestampStr)"
   ]
  },
  {
   "cell_type": "code",
   "execution_count": 5,
   "metadata": {},
   "outputs": [],
   "source": [
    "# def tracking(driver):\n",
    "#     run_timestamp()\n",
    "#     run_sel_lazyloading(driver)\n",
    "#     run_timestamp()"
   ]
  },
  {
   "cell_type": "code",
   "execution_count": 6,
   "metadata": {},
   "outputs": [],
   "source": [
    "# #launch url\n",
    "# austria_wine_url = \"https://www.vivino.com/explore?e=eJwNyzEKgDAMRuHbZK6D4795A3ESkRhrKdhWklL09nZ5y8dLioFSzHCU-MXoHMmHZSbpmejpGi401ugr31QOKNeYg-3cvHLwVHB6k37ZuoErGYR_v5AdOA==\"\n",
    "\n",
    "# # # create a new Firefox session\n",
    "# path = r'/Users/yuewengmak/Desktop/chromedriver'\n",
    "# driver = webdriver.Chrome(executable_path = path)\n",
    "# driver.implicitly_wait(30)\n",
    "# driver.get(austria_wine_url)\n",
    "\n",
    "# tracking(driver)"
   ]
  },
  {
   "cell_type": "code",
   "execution_count": 30,
   "metadata": {},
   "outputs": [
    {
     "name": "stdout",
     "output_type": "stream",
     "text": [
      "Current Timestamp:  30-Jan-2020 (08:33:55.257155)\n",
      "Total Number:  10448\n",
      "Curr Row Number:  200\n",
      "Curr Row Number:  400\n",
      "Curr Row Number:  600\n",
      "Curr Row Number:  800\n",
      "Curr Row Number:  1000\n",
      "Curr Row Number:  1200\n",
      "Curr Row Number:  1400\n",
      "Curr Row Number:  1600\n",
      "Curr Row Number:  1800\n",
      "Curr Row Number:  2000\n",
      "Curr Row Number:  2200\n",
      "Curr Row Number:  2400\n",
      "Curr Row Number:  2600\n",
      "Curr Row Number:  2800\n",
      "Curr Row Number:  3000\n",
      "Curr Row Number:  3200\n",
      "Curr Row Number:  3400\n",
      "Curr Row Number:  3600\n",
      "Curr Row Number:  3800\n",
      "Curr Row Number:  4000\n",
      "Curr Row Number:  4200\n",
      "Curr Row Number:  4400\n",
      "Curr Row Number:  4600\n",
      "Curr Row Number:  4800\n",
      "Curr Row Number:  5000\n",
      "Curr Row Number:  5200\n",
      "Curr Row Number:  5400\n",
      "Curr Row Number:  5600\n",
      "Curr Row Number:  5800\n",
      "Curr Row Number:  6000\n",
      "Curr Row Number:  6200\n",
      "Curr Row Number:  6400\n",
      "Curr Row Number:  6600\n",
      "Curr Row Number:  6800\n",
      "Curr Row Number:  7000\n",
      "Curr Row Number:  7200\n",
      "Curr Row Number:  7400\n",
      "Curr Row Number:  7600\n",
      "Curr Row Number:  7800\n",
      "Curr Row Number:  8000\n",
      "Curr Row Number:  8200\n",
      "Curr Row Number:  8400\n",
      "Curr Row Number:  8600\n",
      "Curr Row Number:  8800\n",
      "Curr Row Number:  9000\n",
      "Curr Row Number:  9200\n",
      "Curr Row Number:  9400\n",
      "Curr Row Number:  9600\n",
      "Curr Row Number:  9800\n",
      "Curr Row Number:  10000\n",
      "Curr Row Number:  10200\n",
      "Curr Row Number:  10400\n",
      "Current Timestamp:  30-Jan-2020 (11:17:24.034906)\n"
     ]
    }
   ],
   "source": [
    "from src.wine import Wine\n",
    "\n",
    "austria_wine_url = \"https://www.vivino.com/explore?e=eJwNyzEKgDAMRuHbZK6D4795A3ESkRhrKdhWklL09nZ5y8dLioFSzHCU-MXoHMmHZSbpmejpGi401ugr31QOKNeYg-3cvHLwVHB6k37ZuoErGYR_v5AdOA==\"\n",
    "austria_wine = Wine(austria_wine_url)\n",
    "austria_wine.setup_driver()\n",
    "austria_wine.tracking()"
   ]
  },
  {
   "cell_type": "code",
   "execution_count": 32,
   "metadata": {},
   "outputs": [],
   "source": [
    "%reload_ext autoreload\n",
    "%autoreload 2"
   ]
  },
  {
   "cell_type": "code",
   "execution_count": 31,
   "metadata": {},
   "outputs": [
    {
     "name": "stderr",
     "output_type": "stream",
     "text": [
      "[autoreload of src.wine failed: Traceback (most recent call last):\n",
      "  File \"/Users/yuewengmak/opt/anaconda3/lib/python3.7/site-packages/IPython/extensions/autoreload.py\", line 245, in check\n",
      "    superreload(m, reload, self.old_objects)\n",
      "  File \"/Users/yuewengmak/opt/anaconda3/lib/python3.7/site-packages/IPython/extensions/autoreload.py\", line 434, in superreload\n",
      "    module = reload(module)\n",
      "  File \"/Users/yuewengmak/opt/anaconda3/lib/python3.7/imp.py\", line 314, in reload\n",
      "    return importlib.reload(module)\n",
      "  File \"/Users/yuewengmak/opt/anaconda3/lib/python3.7/importlib/__init__.py\", line 169, in reload\n",
      "    _bootstrap._exec(spec, module)\n",
      "  File \"<frozen importlib._bootstrap>\", line 630, in _exec\n",
      "  File \"<frozen importlib._bootstrap_external>\", line 724, in exec_module\n",
      "  File \"<frozen importlib._bootstrap_external>\", line 860, in get_code\n",
      "  File \"<frozen importlib._bootstrap_external>\", line 791, in source_to_code\n",
      "  File \"<frozen importlib._bootstrap>\", line 219, in _call_with_frames_removed\n",
      "  File \"/Users/yuewengmak/Documents/galvanize/capstone2/src/wine.py\", line 57\n",
      "    current_rows_number = len(self.driver.find_elements_by_class_name('explorerCard__explorerCard--3Q7_0'))\n",
      "                      ^\n",
      "IndentationError: expected an indented block\n",
      "]\n",
      "[autoreload of src.wine failed: Traceback (most recent call last):\n",
      "  File \"/Users/yuewengmak/opt/anaconda3/lib/python3.7/site-packages/IPython/extensions/autoreload.py\", line 245, in check\n",
      "    superreload(m, reload, self.old_objects)\n",
      "  File \"/Users/yuewengmak/opt/anaconda3/lib/python3.7/site-packages/IPython/extensions/autoreload.py\", line 434, in superreload\n",
      "    module = reload(module)\n",
      "  File \"/Users/yuewengmak/opt/anaconda3/lib/python3.7/imp.py\", line 314, in reload\n",
      "    return importlib.reload(module)\n",
      "  File \"/Users/yuewengmak/opt/anaconda3/lib/python3.7/importlib/__init__.py\", line 169, in reload\n",
      "    _bootstrap._exec(spec, module)\n",
      "  File \"<frozen importlib._bootstrap>\", line 630, in _exec\n",
      "  File \"<frozen importlib._bootstrap_external>\", line 724, in exec_module\n",
      "  File \"<frozen importlib._bootstrap_external>\", line 860, in get_code\n",
      "  File \"<frozen importlib._bootstrap_external>\", line 791, in source_to_code\n",
      "  File \"<frozen importlib._bootstrap>\", line 219, in _call_with_frames_removed\n",
      "  File \"/Users/yuewengmak/Documents/galvanize/capstone2/src/wine.py\", line 57\n",
      "    current_rows_number = len(self.driver.find_elements_by_class_name('explorerCard__explorerCard--3Q7_0'))\n",
      "                      ^\n",
      "IndentationError: expected an indented block\n",
      "]\n",
      "[autoreload of src.wine failed: Traceback (most recent call last):\n",
      "  File \"/Users/yuewengmak/opt/anaconda3/lib/python3.7/site-packages/IPython/extensions/autoreload.py\", line 245, in check\n",
      "    superreload(m, reload, self.old_objects)\n",
      "  File \"/Users/yuewengmak/opt/anaconda3/lib/python3.7/site-packages/IPython/extensions/autoreload.py\", line 434, in superreload\n",
      "    module = reload(module)\n",
      "  File \"/Users/yuewengmak/opt/anaconda3/lib/python3.7/imp.py\", line 314, in reload\n",
      "    return importlib.reload(module)\n",
      "  File \"/Users/yuewengmak/opt/anaconda3/lib/python3.7/importlib/__init__.py\", line 169, in reload\n",
      "    _bootstrap._exec(spec, module)\n",
      "  File \"<frozen importlib._bootstrap>\", line 630, in _exec\n",
      "  File \"<frozen importlib._bootstrap_external>\", line 724, in exec_module\n",
      "  File \"<frozen importlib._bootstrap_external>\", line 860, in get_code\n",
      "  File \"<frozen importlib._bootstrap_external>\", line 791, in source_to_code\n",
      "  File \"<frozen importlib._bootstrap>\", line 219, in _call_with_frames_removed\n",
      "  File \"/Users/yuewengmak/Documents/galvanize/capstone2/src/wine.py\", line 57\n",
      "    current_rows_number = len(self.driver.find_elements_by_class_name('explorerCard__explorerCard--3Q7_0'))\n",
      "                      ^\n",
      "IndentationError: expected an indented block\n",
      "]\n",
      "[autoreload of src.wine failed: Traceback (most recent call last):\n",
      "  File \"/Users/yuewengmak/opt/anaconda3/lib/python3.7/site-packages/IPython/extensions/autoreload.py\", line 245, in check\n",
      "    superreload(m, reload, self.old_objects)\n",
      "  File \"/Users/yuewengmak/opt/anaconda3/lib/python3.7/site-packages/IPython/extensions/autoreload.py\", line 434, in superreload\n",
      "    module = reload(module)\n",
      "  File \"/Users/yuewengmak/opt/anaconda3/lib/python3.7/imp.py\", line 314, in reload\n",
      "    return importlib.reload(module)\n",
      "  File \"/Users/yuewengmak/opt/anaconda3/lib/python3.7/importlib/__init__.py\", line 169, in reload\n",
      "    _bootstrap._exec(spec, module)\n",
      "  File \"<frozen importlib._bootstrap>\", line 630, in _exec\n",
      "  File \"<frozen importlib._bootstrap_external>\", line 724, in exec_module\n",
      "  File \"<frozen importlib._bootstrap_external>\", line 860, in get_code\n",
      "  File \"<frozen importlib._bootstrap_external>\", line 791, in source_to_code\n",
      "  File \"<frozen importlib._bootstrap>\", line 219, in _call_with_frames_removed\n",
      "  File \"/Users/yuewengmak/Documents/galvanize/capstone2/src/wine.py\", line 57\n",
      "    current_rows_number = len(self.driver.find_elements_by_class_name('explorerCard__explorerCard--3Q7_0'))\n",
      "                      ^\n",
      "IndentationError: expected an indented block\n",
      "]\n",
      "[autoreload of src.wine failed: Traceback (most recent call last):\n",
      "  File \"/Users/yuewengmak/opt/anaconda3/lib/python3.7/site-packages/IPython/extensions/autoreload.py\", line 245, in check\n",
      "    superreload(m, reload, self.old_objects)\n",
      "  File \"/Users/yuewengmak/opt/anaconda3/lib/python3.7/site-packages/IPython/extensions/autoreload.py\", line 434, in superreload\n",
      "    module = reload(module)\n",
      "  File \"/Users/yuewengmak/opt/anaconda3/lib/python3.7/imp.py\", line 314, in reload\n",
      "    return importlib.reload(module)\n",
      "  File \"/Users/yuewengmak/opt/anaconda3/lib/python3.7/importlib/__init__.py\", line 169, in reload\n",
      "    _bootstrap._exec(spec, module)\n",
      "  File \"<frozen importlib._bootstrap>\", line 630, in _exec\n",
      "  File \"<frozen importlib._bootstrap_external>\", line 724, in exec_module\n",
      "  File \"<frozen importlib._bootstrap_external>\", line 860, in get_code\n",
      "  File \"<frozen importlib._bootstrap_external>\", line 791, in source_to_code\n",
      "  File \"<frozen importlib._bootstrap>\", line 219, in _call_with_frames_removed\n",
      "  File \"/Users/yuewengmak/Documents/galvanize/capstone2/src/wine.py\", line 57\n",
      "    current_rows_number = len(self.driver.find_elements_by_class_name('explorerCard__explorerCard--3Q7_0'))\n",
      "                      ^\n",
      "IndentationError: expected an indented block\n",
      "]\n"
     ]
    },
    {
     "name": "stdout",
     "output_type": "stream",
     "text": [
      "10450\n"
     ]
    }
   ],
   "source": [
    "from src.wine import Wine\n",
    "from bs4 import BeautifulSoup\n",
    "\n",
    "austria_html = BeautifulSoup(austria_wine.driver.page_source, 'lxml')\n",
    "austria_div = austria_html.find(\"div\", {\"class\": \"explorerPage__results--3wqLw\"})\n",
    "austria_rows = austria_html.find_all(\"div\", {\"class\": \"explorerCard__explorerCard--3Q7_0\"})\n",
    "print(len(austria_rows))"
   ]
  },
  {
   "cell_type": "code",
   "execution_count": 19,
   "metadata": {},
   "outputs": [
    {
     "name": "stdout",
     "output_type": "stream",
     "text": [
      "Current Timestamp:  30-Jan-2020 (00:04:46.898757)\n",
      "Total Number:  32045\n",
      "Curr Row Number:  200\n",
      "Curr Row Number:  400\n",
      "Curr Row Number:  600\n",
      "Curr Row Number:  800\n",
      "Curr Row Number:  1000\n",
      "Curr Row Number:  1200\n",
      "Curr Row Number:  1400\n",
      "Curr Row Number:  1600\n",
      "Curr Row Number:  1800\n",
      "Curr Row Number:  2000\n",
      "Curr Row Number:  2200\n",
      "Curr Row Number:  2400\n",
      "Curr Row Number:  2600\n",
      "Curr Row Number:  2800\n",
      "Curr Row Number:  3000\n",
      "Curr Row Number:  3200\n",
      "Curr Row Number:  3400\n",
      "Curr Row Number:  3600\n",
      "Curr Row Number:  3800\n",
      "Curr Row Number:  4000\n",
      "Curr Row Number:  4200\n",
      "Curr Row Number:  4400\n",
      "Curr Row Number:  4600\n",
      "Curr Row Number:  4800\n",
      "Curr Row Number:  5000\n",
      "Curr Row Number:  5200\n",
      "Curr Row Number:  5400\n",
      "Curr Row Number:  5600\n",
      "Curr Row Number:  5800\n",
      "Curr Row Number:  6000\n",
      "Curr Row Number:  6200\n",
      "Curr Row Number:  6400\n",
      "Curr Row Number:  6600\n",
      "Curr Row Number:  6800\n",
      "Curr Row Number:  7000\n",
      "Curr Row Number:  7200\n",
      "Curr Row Number:  7400\n",
      "Curr Row Number:  7600\n",
      "Curr Row Number:  7800\n",
      "Curr Row Number:  8000\n",
      "Curr Row Number:  8200\n",
      "Curr Row Number:  8400\n",
      "Curr Row Number:  8600\n",
      "Curr Row Number:  8800\n",
      "Curr Row Number:  9000\n",
      "Curr Row Number:  9200\n",
      "Curr Row Number:  9400\n",
      "Curr Row Number:  9600\n",
      "Curr Row Number:  9800\n",
      "Curr Row Number:  10000\n",
      "Curr Row Number:  10200\n",
      "Curr Row Number:  10400\n",
      "Curr Row Number:  10600\n",
      "Curr Row Number:  10800\n",
      "Curr Row Number:  11000\n",
      "Curr Row Number:  11200\n",
      "Curr Row Number:  11400\n",
      "Curr Row Number:  11600\n",
      "Curr Row Number:  11800\n",
      "Curr Row Number:  12000\n",
      "Curr Row Number:  12200\n",
      "Curr Row Number:  12400\n",
      "Current Timestamp:  30-Jan-2020 (03:41:55.124236)\n"
     ]
    }
   ],
   "source": [
    "from src.wine import Wine\n",
    "\n",
    "australia_wine_url = \"https://www.vivino.com/explore?e=eJwNyzEKgDAMRuHbZK6D4795A3ESkVhjKdhWkip6e7u85eMlRUcpZjhK_KJ3jvyHaSTfMtDVNBx4WKNUPqlsUK4xB1v5EeUgVLCL-XbZvIBvMnj-Ab-WHTk=\"\n",
    "australia_wine = Wine(australia_wine_url)\n",
    "australia_wine.setup_driver()\n",
    "australia_wine.tracking()"
   ]
  },
  {
   "cell_type": "code",
   "execution_count": 21,
   "metadata": {},
   "outputs": [
    {
     "name": "stdout",
     "output_type": "stream",
     "text": [
      "12425\n"
     ]
    }
   ],
   "source": [
    "australia_html = BeautifulSoup(australia_wine.driver.page_source, 'lxml')\n",
    "australia_div = australia_html.find(\"div\", {\"class\": \"explorerPage__results--3wqLw\"})\n",
    "australia_rows = australia_html.find_all(\"div\", {\"class\": \"explorerCard__explorerCard--3Q7_0\"})\n",
    "print(len(australia_rows))"
   ]
  },
  {
   "cell_type": "code",
   "execution_count": 52,
   "metadata": {},
   "outputs": [],
   "source": [
    "%reload_ext autoreload\n",
    "%autoreload 2"
   ]
  },
  {
   "cell_type": "code",
   "execution_count": 92,
   "metadata": {},
   "outputs": [],
   "source": [
    "# austria_html = BeautifulSoup(austria_wine.driver.page_source, 'lxml')\n",
    "# austria_div = austria_html.find(\"div\", {\"class\": \"explorerPage__results--3wqLw\"})\n",
    "# austria_rows = austria_html.find_all(\"div\", {\"class\": \"explorerCard__explorerCard--3Q7_0\"})\n",
    "\n",
    "import copy\n",
    "\n",
    "# austria_wine_df = pd.DataFrame()\n",
    "all_rows = []\n",
    "\n",
    "# Let's store each row as a dictionary \n",
    "empty_row = {\n",
    "    \"title\": None, \"country\": None, \"continent\": None, \"ratings\": None, \"num_ratings\": None, \"reviews\": None, \"image_url\": None\n",
    "}\n",
    "\n",
    "for row in austria_rows:\n",
    "    new_row = copy.copy(empty_row)\n",
    "    # A list of all the entries in the row.\n",
    "    new_row['title'] = row.find(\"span\", {\"class\": \"vintageTitle__wine--U7t9G\"}).text\n",
    "    new_row['country'] = row.find(\"i\", {\"class\": \"vintageLocation__countryFlag--1HbXr\"})['title']\n",
    "    new_row['continent'] = 'Europe'\n",
    "    new_row['ratings'] = row.find(\"div\", {\"class\": \"vivinoRatingWide__averageValue--1zL_5\"}).text\n",
    "    new_row['num_ratings'] = int(row.find(\"div\", {\"class\": \"vivinoRatingWide__basedOn--s6y0t\"}).text.split()[0])\n",
    "    review_div = row.find(\"div\", {\"class\": \"review__note--2b2DB\"})\n",
    "    if review_div:\n",
    "        new_row['review'] = review_div.text\n",
    "    image_div = row.find(\"div\", {\"class\": \"cleanWineCard__bottleShotWrapper--nymTj\"})\n",
    "    if image_div:\n",
    "        new_row['image_url'] = image_div.find(\"div\").find_next('img')['src'].strip(\"//\")\n",
    "    all_rows.append(new_row)\n",
    "#     <a class=\"anchor__anchor--2QZvA vintageLocation__anchor--T7J3k\" href=\"/wine-countries/united-states\">United States</a>\n",
    "#     columns = row.find_all(\"td\")\n",
    "#     new_row['rank'] = int(columns[0].text.strip())\n",
    "#     new_row['player'] = columns[1].text.strip()\n",
    "#     new_row['time'] = columns[2].text.strip()\n",
    "#     new_row['comment'] = columns[4].text.strip()\n",
    "#     all_rows.append(new_row)\n",
    "# austria_wine.create_df(austria_rows)"
   ]
  },
  {
   "cell_type": "code",
   "execution_count": 93,
   "metadata": {},
   "outputs": [
    {
     "data": {
      "text/plain": [
       "{'title': 'Unendlich Riesling 2017',\n",
       " 'country': 'Austria',\n",
       " 'continent': 'Europe',\n",
       " 'ratings': '4.9',\n",
       " 'num_ratings': 45,\n",
       " 'reviews': None,\n",
       " 'image_url': 'images.vivino.com/thumbs/Clc1N_neRBq_orOAKw9aqg_pb_x300.png',\n",
       " 'review': '“Chemical, sweet, apple. Acidic, but sweet. Strong mineral. Rocky, Sugary finish. Rubbery, magnolia, condrieu-like. Fresh. Apple pie. - 96”'}"
      ]
     },
     "execution_count": 93,
     "metadata": {},
     "output_type": "execute_result"
    }
   ],
   "source": [
    "all_rows[0]"
   ]
  },
  {
   "cell_type": "code",
   "execution_count": 139,
   "metadata": {},
   "outputs": [
    {
     "name": "stdout",
     "output_type": "stream",
     "text": [
      "Collecting package metadata (current_repodata.json): done\n",
      "Solving environment: done\n",
      "\n",
      "# All requested packages already installed.\n",
      "\n",
      "\n",
      "Note: you may need to restart the kernel to use updated packages.\n"
     ]
    }
   ],
   "source": [
    "conda install pymongo"
   ]
  },
  {
   "cell_type": "code",
   "execution_count": 142,
   "metadata": {},
   "outputs": [],
   "source": [
    "import pymongo\n",
    "from pymongo import MongoClient\n",
    "\n",
    "client = MongoClient('localhost', 27017)\n",
    "wine_db = client['wine']\n",
    "countries = wine_db['countries']"
   ]
  },
  {
   "cell_type": "code",
   "execution_count": 143,
   "metadata": {},
   "outputs": [],
   "source": [
    "for row in all_rows:\n",
    "    countries.insert_one(row)"
   ]
  },
  {
   "cell_type": "code",
   "execution_count": null,
   "metadata": {},
   "outputs": [],
   "source": []
  }
 ],
 "metadata": {
  "kernelspec": {
   "display_name": "Python 3",
   "language": "python",
   "name": "python3"
  },
  "language_info": {
   "codemirror_mode": {
    "name": "ipython",
    "version": 3
   },
   "file_extension": ".py",
   "mimetype": "text/x-python",
   "name": "python",
   "nbconvert_exporter": "python",
   "pygments_lexer": "ipython3",
   "version": "3.7.4"
  }
 },
 "nbformat": 4,
 "nbformat_minor": 2
}
