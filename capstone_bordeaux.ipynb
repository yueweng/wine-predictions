{
 "cells": [
  {
   "cell_type": "code",
   "execution_count": 3,
   "metadata": {},
   "outputs": [
    {
     "name": "stdout",
     "output_type": "stream",
     "text": [
      "Collecting package metadata (current_repodata.json): done\n",
      "Solving environment: done\n",
      "\n",
      "# All requested packages already installed.\n",
      "\n",
      "\n",
      "Note: you may need to restart the kernel to use updated packages.\n"
     ]
    }
   ],
   "source": [
    "conda install selenium"
   ]
  },
  {
   "cell_type": "code",
   "execution_count": 54,
   "metadata": {},
   "outputs": [
    {
     "name": "stderr",
     "output_type": "stream",
     "text": [
      "[autoreload of wine failed: Traceback (most recent call last):\n",
      "  File \"/Users/yuewengmak/opt/anaconda3/lib/python3.7/site-packages/IPython/extensions/autoreload.py\", line 245, in check\n",
      "    superreload(m, reload, self.old_objects)\n",
      "  File \"/Users/yuewengmak/opt/anaconda3/lib/python3.7/site-packages/IPython/extensions/autoreload.py\", line 450, in superreload\n",
      "    update_generic(old_obj, new_obj)\n",
      "  File \"/Users/yuewengmak/opt/anaconda3/lib/python3.7/site-packages/IPython/extensions/autoreload.py\", line 387, in update_generic\n",
      "    update(a, b)\n",
      "  File \"/Users/yuewengmak/opt/anaconda3/lib/python3.7/site-packages/IPython/extensions/autoreload.py\", line 357, in update_class\n",
      "    update_instances(old, new)\n",
      "  File \"/Users/yuewengmak/opt/anaconda3/lib/python3.7/site-packages/IPython/extensions/autoreload.py\", line 312, in update_instances\n",
      "    update_instances(old, new, obj.__dict__, visited)\n",
      "  File \"/Users/yuewengmak/opt/anaconda3/lib/python3.7/site-packages/IPython/extensions/autoreload.py\", line 317, in update_instances\n",
      "    update_instances(old, new, obj, visited)\n",
      "  File \"/Users/yuewengmak/opt/anaconda3/lib/python3.7/site-packages/IPython/extensions/autoreload.py\", line 312, in update_instances\n",
      "    update_instances(old, new, obj.__dict__, visited)\n",
      "  File \"/Users/yuewengmak/opt/anaconda3/lib/python3.7/site-packages/IPython/extensions/autoreload.py\", line 317, in update_instances\n",
      "    update_instances(old, new, obj, visited)\n",
      "  File \"/Users/yuewengmak/opt/anaconda3/lib/python3.7/site-packages/IPython/extensions/autoreload.py\", line 312, in update_instances\n",
      "    update_instances(old, new, obj.__dict__, visited)\n",
      "  File \"/Users/yuewengmak/opt/anaconda3/lib/python3.7/site-packages/IPython/extensions/autoreload.py\", line 317, in update_instances\n",
      "    update_instances(old, new, obj, visited)\n",
      "RecursionError: maximum recursion depth exceeded while calling a Python object\n",
      "]\n",
      "[autoreload of wine failed: Traceback (most recent call last):\n",
      "  File \"/Users/yuewengmak/opt/anaconda3/lib/python3.7/site-packages/IPython/extensions/autoreload.py\", line 245, in check\n",
      "    superreload(m, reload, self.old_objects)\n",
      "  File \"/Users/yuewengmak/opt/anaconda3/lib/python3.7/site-packages/IPython/extensions/autoreload.py\", line 450, in superreload\n",
      "    update_generic(old_obj, new_obj)\n",
      "  File \"/Users/yuewengmak/opt/anaconda3/lib/python3.7/site-packages/IPython/extensions/autoreload.py\", line 387, in update_generic\n",
      "    update(a, b)\n",
      "  File \"/Users/yuewengmak/opt/anaconda3/lib/python3.7/site-packages/IPython/extensions/autoreload.py\", line 357, in update_class\n",
      "    update_instances(old, new)\n",
      "  File \"/Users/yuewengmak/opt/anaconda3/lib/python3.7/site-packages/IPython/extensions/autoreload.py\", line 312, in update_instances\n",
      "    update_instances(old, new, obj.__dict__, visited)\n",
      "  File \"/Users/yuewengmak/opt/anaconda3/lib/python3.7/site-packages/IPython/extensions/autoreload.py\", line 317, in update_instances\n",
      "    update_instances(old, new, obj, visited)\n",
      "  File \"/Users/yuewengmak/opt/anaconda3/lib/python3.7/site-packages/IPython/extensions/autoreload.py\", line 312, in update_instances\n",
      "    update_instances(old, new, obj.__dict__, visited)\n",
      "  File \"/Users/yuewengmak/opt/anaconda3/lib/python3.7/site-packages/IPython/extensions/autoreload.py\", line 317, in update_instances\n",
      "    update_instances(old, new, obj, visited)\n",
      "  File \"/Users/yuewengmak/opt/anaconda3/lib/python3.7/site-packages/IPython/extensions/autoreload.py\", line 312, in update_instances\n",
      "    update_instances(old, new, obj.__dict__, visited)\n",
      "  File \"/Users/yuewengmak/opt/anaconda3/lib/python3.7/site-packages/IPython/extensions/autoreload.py\", line 317, in update_instances\n",
      "    update_instances(old, new, obj, visited)\n",
      "RecursionError: maximum recursion depth exceeded while calling a Python object\n",
      "]\n"
     ]
    }
   ],
   "source": [
    "import numpy as numpy\n",
    "from selenium import webdriver\n",
    "from selenium.webdriver.common.keys import Keys\n",
    "from selenium.webdriver.chrome.options import Options\n",
    "from selenium.webdriver.support.ui import WebDriverWait as wait\n",
    "from selenium.common.exceptions import TimeoutException\n",
    "from bs4 import BeautifulSoup\n",
    "import pandas as pd\n",
    "import os\n",
    "from datetime import datetime\n",
    "import time\n",
    "\n",
    "def lazyloading(driver):\n",
    "    # Get the current number of rows\n",
    "    current_rows_number = len(driver.find_elements_by_class_name('explorerCard__explorerCard--3Q7_0'))\n",
    "    total_number = int(driver.find_elements_by_css_selector('.querySummary__querySummary--39WP2')[0].text.split('Showing ')[1].split('wines')[0])\n",
    "    print(\"Total Number: \", total_number)\n",
    "    while current_rows_number < total_number:\n",
    "        # Scroll down to make new XHR (request more table rows)\n",
    "        driver.find_element_by_tag_name('body').send_keys(Keys.END)\n",
    "        try:\n",
    "            driver.set_window_position(0,-1000)\n",
    "            # Wait until number of rows increased  \n",
    "            time.sleep(30)\n",
    "            wait(driver, 300).until(lambda drive: len(driver.find_elements_by_class_name('explorerCard__explorerCard--3Q7_0')) > current_rows_number)\n",
    "            # Update variable with current rows number\n",
    "            current_rows_number = len(driver.find_elements_by_class_name('explorerCard__explorerCard--3Q7_0'))\n",
    "            if current_rows_number % 200 == 0:\n",
    "              print(\"Curr Row Number: \", current_rows_number)\n",
    "        # If number of rows remains the same after 5 seconds passed, break the loop\n",
    "        # as there no more rows to receive\n",
    "        except TimeoutException:\n",
    "            break"
   ]
  },
  {
   "cell_type": "code",
   "execution_count": 10,
   "metadata": {},
   "outputs": [],
   "source": [
    "%reload_ext autoreload\n",
    "%autoreload 2"
   ]
  },
  {
   "cell_type": "code",
   "execution_count": 11,
   "metadata": {},
   "outputs": [
    {
     "name": "stdout",
     "output_type": "stream",
     "text": [
      "Current Timestamp:  31-Jan-2020 (10:26:30.275698)\n",
      "Total Number:  5158\n",
      "Curr Row Number:  200\n",
      "Curr Row Number:  400\n",
      "Curr Row Number:  600\n",
      "Curr Row Number:  800\n",
      "Curr Row Number:  1000\n",
      "Curr Row Number:  1200\n",
      "Curr Row Number:  1400\n",
      "Curr Row Number:  1600\n",
      "Curr Row Number:  1800\n",
      "Curr Row Number:  2000\n",
      "Curr Row Number:  2200\n",
      "Curr Row Number:  2400\n",
      "Curr Row Number:  2600\n",
      "Curr Row Number:  2800\n",
      "Curr Row Number:  3000\n",
      "Curr Row Number:  3200\n",
      "Curr Row Number:  3400\n",
      "Curr Row Number:  3600\n",
      "Curr Row Number:  3800\n",
      "Curr Row Number:  4000\n",
      "Curr Row Number:  4200\n",
      "Curr Row Number:  4400\n",
      "Curr Row Number:  4600\n",
      "Curr Row Number:  4800\n",
      "Curr Row Number:  5000\n",
      "Current Timestamp:  31-Jan-2020 (12:19:30.624295)\n"
     ]
    }
   ],
   "source": [
    "from wine import Wine\n",
    "\n",
    "bordeaux_wine_url = \"https://www.vivino.com/explore?e=eJwNxTEKgDAQBMDfbClKEGy28wdiJSJnjCFgErmI6O-1mYlKU7WIIbGpEeX5q2FfjgPsT4-TDfzOWzS4Sw7klSpXSL4scjsV75C5uWKh00zTGRRa-QDQzhy2\"\n",
    "bordeaux_wine = Wine(bordeaux_wine_url)\n",
    "bordeaux_wine.setup_driver()\n",
    "bordeaux_wine.run_timestamp()\n",
    "lazyloading(bordeaux_wine.driver)\n",
    "bordeaux_wine.run_timestamp()"
   ]
  },
  {
   "cell_type": "code",
   "execution_count": 12,
   "metadata": {},
   "outputs": [
    {
     "data": {
      "text/plain": [
       "5175"
      ]
     },
     "execution_count": 12,
     "metadata": {},
     "output_type": "execute_result"
    }
   ],
   "source": [
    "bordeaux_html = BeautifulSoup(bordeaux_wine.driver.page_source, 'lxml')\n",
    "bordeaux_div = bordeaux_html.find(\"div\", {\"class\": \"explorerPage__results--3wqLw\"})\n",
    "bordeaux_rows = bordeaux_html.find_all(\"div\", {\"class\": \"explorerCard__explorerCard--3Q7_0\"})\n",
    "len(bordeaux_rows)"
   ]
  },
  {
   "cell_type": "code",
   "execution_count": 48,
   "metadata": {},
   "outputs": [],
   "source": [
    "import copy\n",
    "\n",
    "# austria_wine_df = pd.DataFrame()\n",
    "all_rows = []\n",
    "\n",
    "# Let's store each row as a dictionary \n",
    "empty_row = {\n",
    "    \"title\": None, \"location\": None, \"region\": None, \"country\": None, \"price\": None, \"ratings\": None, \"num_ratings\": None, \"reviews\": None, \"image_url\": None\n",
    "}\n",
    "\n",
    "for row in bordeaux_rows:\n",
    "    new_row = copy.copy(empty_row)\n",
    "    # A list of all the entries in the row.\n",
    "    new_row['title'] = row.find(\"span\", {\"class\": \"vintageTitle__wine--U7t9G\"}).text\n",
    "    \n",
    "    location = row.find(\"div\", {\"class\": \"vintageLocation__vintageLocation--1DF0p\"})\n",
    "    new_row['location'] = location.findChildren()[-1].text\n",
    "    new_row['region'] = 'Bordeaux'\n",
    "    new_row['country'] = row.find(\"i\", {\"class\": \"vintageLocation__countryFlag--1HbXr\"})['title']\n",
    "    price_button = row.find(\"button\", {\"class\": \"addToCartButton__addToCartButton--qZv9F\"})\n",
    "    if price_button:\n",
    "        new_row['price'] = (float(price_button.find(\"span\").text.replace(\"$\", \"\")))\n",
    "    new_row['ratings'] = row.find(\"div\", {\"class\": \"vivinoRatingWide__averageValue--1zL_5\"}).text\n",
    "    new_row['num_ratings'] = int(row.find(\"div\", {\"class\": \"vivinoRatingWide__basedOn--s6y0t\"}).text.split()[0])\n",
    "    review_div = row.find(\"div\", {\"class\": \"review__note--2b2DB\"})\n",
    "    if review_div:\n",
    "        new_row['review'] = review_div.text\n",
    "    image_div = row.find(\"div\", {\"class\": \"cleanWineCard__bottleShotWrapper--nymTj\"})\n",
    "    if image_div:\n",
    "        new_row['image_url'] = image_div.find(\"div\").find_next('img')['src'].strip(\"//\")\n",
    "    all_rows.append(new_row)"
   ]
  },
  {
   "cell_type": "code",
   "execution_count": 49,
   "metadata": {},
   "outputs": [
    {
     "data": {
      "text/plain": [
       "{'title': 'Sauternes (Premier Grand Cru Classé) 2005',\n",
       " 'location': 'Sauternes',\n",
       " 'region': 'Bordeaux',\n",
       " 'country': 'France',\n",
       " 'price': 89.99,\n",
       " 'ratings': '4.4',\n",
       " 'num_ratings': 1302,\n",
       " 'reviews': None,\n",
       " 'image_url': 'images.vivino.com/thumbs/gnOwIVXJQ6abQRMgMzGoAg_pb_x300.png'}"
      ]
     },
     "execution_count": 49,
     "metadata": {},
     "output_type": "execute_result"
    }
   ],
   "source": [
    "all_rows[0]"
   ]
  },
  {
   "cell_type": "code",
   "execution_count": 50,
   "metadata": {},
   "outputs": [
    {
     "name": "stdout",
     "output_type": "stream",
     "text": [
      "Collecting package metadata (current_repodata.json): done\n",
      "Solving environment: done\n",
      "\n",
      "# All requested packages already installed.\n",
      "\n",
      "\n",
      "Note: you may need to restart the kernel to use updated packages.\n"
     ]
    }
   ],
   "source": [
    "conda install pymongo"
   ]
  },
  {
   "cell_type": "code",
   "execution_count": 51,
   "metadata": {},
   "outputs": [],
   "source": [
    "import pymongo\n",
    "from pymongo import MongoClient\n",
    "\n",
    "client = MongoClient('localhost', 27017)\n",
    "wine_db = client['wine']\n",
    "regions = wine_db['regions']"
   ]
  },
  {
   "cell_type": "code",
   "execution_count": 53,
   "metadata": {},
   "outputs": [],
   "source": [
    "for row in all_rows:\n",
    "    regions.insert_one(row)"
   ]
  },
  {
   "cell_type": "code",
   "execution_count": null,
   "metadata": {},
   "outputs": [],
   "source": []
  }
 ],
 "metadata": {
  "kernelspec": {
   "display_name": "Python 3",
   "language": "python",
   "name": "python3"
  },
  "language_info": {
   "codemirror_mode": {
    "name": "ipython",
    "version": 3
   },
   "file_extension": ".py",
   "mimetype": "text/x-python",
   "name": "python",
   "nbconvert_exporter": "python",
   "pygments_lexer": "ipython3",
   "version": "3.7.4"
  }
 },
 "nbformat": 4,
 "nbformat_minor": 2
}
