{
 "cells": [
  {
   "cell_type": "code",
   "execution_count": 1,
   "metadata": {},
   "outputs": [
    {
     "name": "stdout",
     "output_type": "stream",
     "text": [
      "Collecting package metadata (current_repodata.json): done\n",
      "Solving environment: done\n",
      "\n",
      "# All requested packages already installed.\n",
      "\n",
      "\n",
      "Note: you may need to restart the kernel to use updated packages.\n"
     ]
    }
   ],
   "source": [
    "conda install selenium"
   ]
  },
  {
   "cell_type": "code",
   "execution_count": 1,
   "metadata": {},
   "outputs": [],
   "source": [
    "import numpy as numpy\n",
    "from selenium import webdriver\n",
    "from selenium.webdriver.common.keys import Keys\n",
    "from selenium.webdriver.chrome.options import Options\n",
    "from selenium.webdriver.support.ui import WebDriverWait as wait\n",
    "from selenium.common.exceptions import TimeoutException\n",
    "from bs4 import BeautifulSoup\n",
    "import pandas as pd\n",
    "import os\n",
    "from datetime import datetime\n",
    "import time\n",
    "\n",
    "def lazyloading(driver):\n",
    "    # Get the current number of rows\n",
    "    current_rows_number = len(driver.find_elements_by_class_name('explorerCard__explorerCard--3Q7_0'))\n",
    "    total_number = int(driver.find_elements_by_css_selector('.querySummary__querySummary--39WP2')[0].text.split('Showing ')[1].split('Rosé')[0])\n",
    "    print(\"Total Number: \", total_number)\n",
    "    while current_rows_number < total_number:\n",
    "        # Scroll down to make new XHR (request more table rows)\n",
    "        driver.find_element_by_tag_name('body').send_keys(Keys.END)\n",
    "        try:\n",
    "            driver.set_window_position(0,-1000)\n",
    "            # Wait until number of rows increased \n",
    "            time.sleep(10)\n",
    "            wait(driver, 200).until(lambda drive: len(driver.find_elements_by_class_name('explorerCard__explorerCard--3Q7_0')) > current_rows_number)\n",
    "            # Update variable with current rows number\n",
    "            current_rows_number = len(driver.find_elements_by_class_name('explorerCard__explorerCard--3Q7_0'))\n",
    "            if current_rows_number % 200 == 0:\n",
    "              print(\"Curr Row Number: \", current_rows_number)\n",
    "        # If number of rows remains the same after 5 seconds passed, break the loop\n",
    "        # as there no more rows to receive\n",
    "        except TimeoutException:\n",
    "            break"
   ]
  },
  {
   "cell_type": "code",
   "execution_count": null,
   "metadata": {},
   "outputs": [
    {
     "name": "stdout",
     "output_type": "stream",
     "text": [
      "Current Timestamp:  01-Feb-2020 (20:32:43.942533)\n",
      "Total Number:  410\n",
      "Curr Row Number:  200\n",
      "Curr Row Number:  400\n"
     ]
    }
   ],
   "source": [
    "from wine_setup import WineSetup\n",
    "\n",
    "rose_wine_url = \"https://www.vivino.com/explore?e=eJwtyzEOwjAQRNHbTBklCpTT5QaICiG0cRbLEnaQ1wokp48LN_NfMzFz7K6IIXHoEeVf08PtvN_g6kz4coB_c5MctMgH68wsJSRvL9k0i1esXNQcfuXx5KWerVatIZSGQxrSAaOTE7oKKeU=\"\n",
    "rose_wine = Wine(rose_wine_url)\n",
    "rose_wine.setup_driver()\n",
    "rose_wine.run_timestamp()\n",
    "lazyloading(rose_wine.driver)\n",
    "rose_wine.run_timestamp()"
   ]
  },
  {
   "cell_type": "code",
   "execution_count": 50,
   "metadata": {},
   "outputs": [],
   "source": [
    "rose_html = BeautifulSoup(rose_wine.driver.page_source, 'lxml')\n",
    "rose_div = rose_html.find(\"div\", {\"class\": \"explorerPage__results--3wqLw\"})\n",
    "rose_rows = rose_html.find_all(\"div\", {\"class\": \"explorerCard__explorerCard--3Q7_0\"})"
   ]
  },
  {
   "cell_type": "code",
   "execution_count": 51,
   "metadata": {},
   "outputs": [],
   "source": [
    "import copy\n",
    "\n",
    "# austria_wine_df = pd.DataFrame()\n",
    "all_rows = []\n",
    "\n",
    "# Let's store each row as a dictionary \n",
    "empty_row = {\n",
    "    \"title\": None, \"location\": None, \"country\": None, \"price\": None, \"type\": None, \"ratings\": None, \"num_ratings\": None, \"reviews\": None, \"url\": None\n",
    "}\n",
    "\n",
    "for row in rose_rows:\n",
    "    new_row = copy.copy(empty_row)\n",
    "    # A list of all the entries in the row.\n",
    "    new_row['title'] = row.find(\"span\", {\"class\": \"vintageTitle__wine--U7t9G\"}).text\n",
    "    location = row.find(\"div\", {\"class\": \"vintageLocation__vintageLocation--1DF0p\"})\n",
    "    new_row['location'] = location.findChildren()[-1].text\n",
    "    country = row.find(\"i\", {\"class\": \"vintageLocation__countryFlag--1HbXr\"})['title']\n",
    "    new_row['country'] = country\n",
    "    price_button = row.find(\"button\", {\"class\": \"addToCartButton__addToCartButton--qZv9F\"})\n",
    "    if price_button:\n",
    "        new_row['price'] = (float(price_button.find(\"span\").text.replace(\"$\", \"\")))\n",
    "    new_row['type'] = 'Rosé'\n",
    "    new_row['ratings'] = row.find(\"div\", {\"class\": \"vivinoRatingWide__averageValue--1zL_5\"}).text\n",
    "    new_row['num_ratings'] = int(row.find(\"div\", {\"class\": \"vivinoRatingWide__basedOn--s6y0t\"}).text.split()[0])\n",
    "    review_div = row.find(\"div\", {\"class\": \"review__note--2b2DB\"})\n",
    "    if review_div:\n",
    "        new_row['reviews'] = review_div.text\n",
    "    clean_div = row.find(\"div\", {\"class\": \"cleanWineCard__cleanWineCard--tzKxV cleanWineCard__row--CBPRR\"})\n",
    "    if clean_div:\n",
    "        new_row['url'] = 'https://www.vivino.com' + clean_div.find(\"a\")['href']\n",
    "    all_rows.append(new_row)"
   ]
  },
  {
   "cell_type": "code",
   "execution_count": 52,
   "metadata": {},
   "outputs": [
    {
     "data": {
      "text/plain": [
       "[{'title': 'En Valingrain Rosé des Riceys 2014',\n",
       "  'location': 'Rosé des Riceys',\n",
       "  'region': 'Champagne',\n",
       "  'country': 'France',\n",
       "  'price': None,\n",
       "  'type': 'Rosé',\n",
       "  'ratings': '3.9',\n",
       "  'num_ratings': 25,\n",
       "  'reviews': None,\n",
       "  'image_url': 'https://ct.pinterest.com/v3/?event=init&tid=2612573710865&noscript=1'},\n",
       " {'title': 'En Barmont Rosé des Riceys 2011',\n",
       "  'location': 'Rosé des Riceys',\n",
       "  'region': 'Champagne',\n",
       "  'country': 'France',\n",
       "  'price': None,\n",
       "  'type': 'Rosé',\n",
       "  'ratings': '3.9',\n",
       "  'num_ratings': 25,\n",
       "  'reviews': None,\n",
       "  'image_url': 'https://ct.pinterest.com/v3/?event=init&tid=2612573710865&noscript=1'},\n",
       " {'title': 'En Valingrain Rosé des Riceys 2010',\n",
       "  'location': 'Rosé des Riceys',\n",
       "  'region': 'Champagne',\n",
       "  'country': 'France',\n",
       "  'price': None,\n",
       "  'type': 'Rosé',\n",
       "  'ratings': '3.8',\n",
       "  'num_ratings': 51,\n",
       "  'reviews': None,\n",
       "  'image_url': 'https://ct.pinterest.com/v3/?event=init&tid=2612573710865&noscript=1'},\n",
       " {'title': 'En Barmont Rosé des Riceys 2012',\n",
       "  'location': 'Rosé des Riceys',\n",
       "  'region': 'Champagne',\n",
       "  'country': 'France',\n",
       "  'price': None,\n",
       "  'type': 'Rosé',\n",
       "  'ratings': '3.7',\n",
       "  'num_ratings': 25,\n",
       "  'reviews': None,\n",
       "  'image_url': 'https://ct.pinterest.com/v3/?event=init&tid=2612573710865&noscript=1'},\n",
       " {'title': 'En Barmont Rosé des Riceys 2014',\n",
       "  'location': 'Rosé des Riceys',\n",
       "  'region': 'Champagne',\n",
       "  'country': 'France',\n",
       "  'price': None,\n",
       "  'type': 'Rosé',\n",
       "  'ratings': '3.7',\n",
       "  'num_ratings': 26,\n",
       "  'reviews': None,\n",
       "  'image_url': 'https://ct.pinterest.com/v3/?event=init&tid=2612573710865&noscript=1'}]"
      ]
     },
     "execution_count": 52,
     "metadata": {},
     "output_type": "execute_result"
    }
   ],
   "source": [
    "all_rows"
   ]
  },
  {
   "cell_type": "code",
   "execution_count": 14,
   "metadata": {},
   "outputs": [
    {
     "name": "stdout",
     "output_type": "stream",
     "text": [
      "Collecting package metadata (current_repodata.json): done\n",
      "Solving environment: done\n",
      "\n",
      "# All requested packages already installed.\n",
      "\n",
      "\n",
      "Note: you may need to restart the kernel to use updated packages.\n"
     ]
    }
   ],
   "source": [
    "conda install pymongo"
   ]
  },
  {
   "cell_type": "code",
   "execution_count": 21,
   "metadata": {},
   "outputs": [],
   "source": [
    "import pymongo\n",
    "from pymongo import MongoClient\n",
    "\n",
    "client = MongoClient('localhost', 27017)\n",
    "wine_db = client['wine_db']\n",
    "wines = wine_db['wines']"
   ]
  },
  {
   "cell_type": "code",
   "execution_count": 53,
   "metadata": {},
   "outputs": [],
   "source": [
    "for row in all_rows:\n",
    "    wines.insert_one(row)"
   ]
  },
  {
   "cell_type": "code",
   "execution_count": null,
   "metadata": {},
   "outputs": [],
   "source": [
    "for row in all_rows:\n",
    "    wines.insert_one(row)"
   ]
  }
 ],
 "metadata": {
  "kernelspec": {
   "display_name": "Python 3",
   "language": "python",
   "name": "python3"
  },
  "language_info": {
   "codemirror_mode": {
    "name": "ipython",
    "version": 3
   },
   "file_extension": ".py",
   "mimetype": "text/x-python",
   "name": "python",
   "nbconvert_exporter": "python",
   "pygments_lexer": "ipython3",
   "version": "3.7.4"
  }
 },
 "nbformat": 4,
 "nbformat_minor": 2
}
