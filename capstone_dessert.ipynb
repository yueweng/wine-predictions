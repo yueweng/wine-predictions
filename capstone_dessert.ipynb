{
 "cells": [
  {
   "cell_type": "code",
   "execution_count": 1,
   "metadata": {},
   "outputs": [
    {
     "name": "stdout",
     "output_type": "stream",
     "text": [
      "Collecting package metadata (current_repodata.json): done\n",
      "Solving environment: done\n",
      "\n",
      "# All requested packages already installed.\n",
      "\n",
      "\n",
      "Note: you may need to restart the kernel to use updated packages.\n"
     ]
    }
   ],
   "source": [
    "conda install selenium"
   ]
  },
  {
   "cell_type": "code",
   "execution_count": 2,
   "metadata": {},
   "outputs": [
    {
     "name": "stdout",
     "output_type": "stream",
     "text": [
      "Collecting package metadata (current_repodata.json): done\n",
      "Solving environment: done\n",
      "\n",
      "# All requested packages already installed.\n",
      "\n",
      "\n",
      "Note: you may need to restart the kernel to use updated packages.\n"
     ]
    }
   ],
   "source": [
    "conda install pymongo"
   ]
  },
  {
   "cell_type": "code",
   "execution_count": 115,
   "metadata": {},
   "outputs": [
    {
     "name": "stdout",
     "output_type": "stream",
     "text": [
      "Current Timestamp:  01-Feb-2020 (20:34:14.075496)\n",
      "Total Number:  190\n",
      "Current Timestamp:  01-Feb-2020 (20:35:25.479781)\n"
     ]
    }
   ],
   "source": [
    "from wine import Wine\n",
    "\n",
    "dessert_wine_url = \"https://www.vivino.com/explore?e=eJwtyzEKwzAQRNHbTGlsTEg1nW8QUoUQ1vJGCCI5aIUT-_RWoWb-ayZmjt0FMSQOPaL8a3q4nfcbXJ0JXw7wb26Sgxb5YJ2ZpYTk7SWbZvGKlYuaw688nrzWs9WqNYTScEhDOmB0cgK6iCno\"\n",
    "dessert_wine = Wine(dessert_wine_url)\n",
    "dessert_wine.setup_driver()\n",
    "dessert_wine.run_timestamp()\n",
    "dessert_wine.run_sel_lazyloading('Dessert')\n",
    "dessert_wine.run_timestamp()"
   ]
  },
  {
   "cell_type": "code",
   "execution_count": 110,
   "metadata": {},
   "outputs": [],
   "source": [
    "dessert_rows = dessert_wine.create_rows()"
   ]
  },
  {
   "cell_type": "code",
   "execution_count": 111,
   "metadata": {},
   "outputs": [
    {
     "data": {
      "text/plain": [
       "2"
      ]
     },
     "execution_count": 111,
     "metadata": {},
     "output_type": "execute_result"
    }
   ],
   "source": [
    "len(dessert_rows)"
   ]
  },
  {
   "cell_type": "code",
   "execution_count": 77,
   "metadata": {},
   "outputs": [],
   "source": [
    "%reload_ext autoreload\n",
    "%autoreload 2"
   ]
  },
  {
   "cell_type": "code",
   "execution_count": 112,
   "metadata": {},
   "outputs": [],
   "source": [
    "import copy\n",
    "# austria_wine_df = pd.DataFrame()\n",
    "all_rows = []\n",
    "\n",
    "# Let's store each row as a dictionary \n",
    "empty_row = {\n",
    "    \"title\": None, \"location\": None, \"region\": None, \"country\": None, \"price\": None, \"type\": None, \"ratings\": None, \"num_ratings\": None, \"reviews\": None, \"image_url\": None\n",
    "}\n",
    "\n",
    "for row in dessert_rows:\n",
    "    new_row = copy.copy(empty_row)\n",
    "    # A list of all the entries in the row.\n",
    "    new_row['title'] = row.find(\"span\", {\"class\": \"vintageTitle__wine--U7t9G\"}).text\n",
    "    \n",
    "    location = row.find(\"div\", {\"class\": \"vintageLocation__vintageLocation--1DF0p\"})\n",
    "    new_row['location'] = location.findChildren()[-1].text\n",
    "    country = row.find(\"i\", {\"class\": \"vintageLocation__countryFlag--1HbXr\"})['title']\n",
    "#     new_row['region'] = 'Champagne'\n",
    "    new_row['country'] = country\n",
    "    price_button = row.find(\"button\", {\"class\": \"addToCartButton__addToCartButton--qZv9F\"})\n",
    "    if price_button:\n",
    "        new_row['price'] = (float(price_button.find(\"span\").text.replace(\"$\", \"\")))\n",
    "    new_row['type'] = 'Dessert'\n",
    "    new_row['ratings'] = row.find(\"div\", {\"class\": \"vivinoRatingWide__averageValue--1zL_5\"}).text\n",
    "    new_row['num_ratings'] = int(row.find(\"div\", {\"class\": \"vivinoRatingWide__basedOn--s6y0t\"}).text.split()[0])\n",
    "    review_div = row.find(\"div\", {\"class\": \"review__note--2b2DB\"})\n",
    "    if review_div:\n",
    "        new_row['review'] = review_div.text\n",
    "    image_div = row.find(\"div\", {\"class\": \"cleanWineCard__bottleShotWrapper--nymTj\"})\n",
    "    if image_div:\n",
    "        new_row['image_url'] = image_div.find(\"div\").find_next('img')['src'].strip(\"//\")\n",
    "    all_rows.append(new_row)"
   ]
  },
  {
   "cell_type": "code",
   "execution_count": 113,
   "metadata": {},
   "outputs": [
    {
     "data": {
      "text/plain": [
       "[{'title': 'Ratafia de Champagne N.V.',\n",
       "  'location': 'Champagne',\n",
       "  'region': 'Champagne',\n",
       "  'country': 'France',\n",
       "  'price': None,\n",
       "  'type': 'Dessert',\n",
       "  'ratings': '4.2',\n",
       "  'num_ratings': 98,\n",
       "  'reviews': None,\n",
       "  'image_url': 'https://ct.pinterest.com/v3/?event=init&tid=2612573710865&noscript=1'},\n",
       " {'title': 'Solera Ratafia de Champagne N.V.',\n",
       "  'location': 'Champagne',\n",
       "  'region': 'Champagne',\n",
       "  'country': 'France',\n",
       "  'price': None,\n",
       "  'type': 'Dessert',\n",
       "  'ratings': '4.0',\n",
       "  'num_ratings': 432,\n",
       "  'reviews': None,\n",
       "  'image_url': 'https://ct.pinterest.com/v3/?event=init&tid=2612573710865&noscript=1'}]"
      ]
     },
     "execution_count": 113,
     "metadata": {},
     "output_type": "execute_result"
    }
   ],
   "source": [
    "all_rows"
   ]
  },
  {
   "cell_type": "code",
   "execution_count": 114,
   "metadata": {},
   "outputs": [],
   "source": [
    "dessert_wine.connect_mongo(all_rows)"
   ]
  },
  {
   "cell_type": "code",
   "execution_count": null,
   "metadata": {},
   "outputs": [],
   "source": []
  },
  {
   "cell_type": "code",
   "execution_count": null,
   "metadata": {},
   "outputs": [],
   "source": []
  }
 ],
 "metadata": {
  "kernelspec": {
   "display_name": "Python 3",
   "language": "python",
   "name": "python3"
  },
  "language_info": {
   "codemirror_mode": {
    "name": "ipython",
    "version": 3
   },
   "file_extension": ".py",
   "mimetype": "text/x-python",
   "name": "python",
   "nbconvert_exporter": "python",
   "pygments_lexer": "ipython3",
   "version": "3.7.4"
  }
 },
 "nbformat": 4,
 "nbformat_minor": 2
}
